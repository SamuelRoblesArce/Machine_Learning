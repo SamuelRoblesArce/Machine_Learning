{
  "nbformat": 4,
  "nbformat_minor": 0,
  "metadata": {
    "colab": {
      "provenance": [],
      "gpuType": "T4",
      "include_colab_link": true
    },
    "kernelspec": {
      "name": "python3",
      "display_name": "Python 3"
    },
    "language_info": {
      "name": "python"
    },
    "accelerator": "GPU"
  },
  "cells": [
    {
      "cell_type": "markdown",
      "metadata": {
        "id": "view-in-github",
        "colab_type": "text"
      },
      "source": [
        "<a href=\"https://colab.research.google.com/github/SamuelRoblesArce/Machine_Learning/blob/main/8_KerasDeepLearning.ipynb\" target=\"_parent\"><img src=\"https://colab.research.google.com/assets/colab-badge.svg\" alt=\"Open In Colab\"/></a>"
      ]
    },
    {
      "cell_type": "markdown",
      "metadata": {
        "id": "B6MjBuBNJax9"
      },
      "source": [
        "#**Desarrollo de Modelos de Deep Learning con Keras**"
      ]
    },
    {
      "cell_type": "markdown",
      "metadata": {
        "id": "pqAyrRWW0Qlr"
      },
      "source": [
        "Basado en: https://machinelearningmastery.com/tensorflow-tutorial-deep-learning-with-tf-keras/"
      ]
    },
    {
      "cell_type": "markdown",
      "metadata": {
        "id": "rGYqPmifJfHS"
      },
      "source": [
        "Cinco pasos a utilizar con Keras:\n",
        "\n",
        "- Definir el modelo (arquitectura).\n",
        "- Compilar el modelo.\n",
        "- Ajustar el modelo (fit).\n",
        "- Evaluar el modelo.\n",
        "- Hacer predicciones."
      ]
    },
    {
      "cell_type": "markdown",
      "metadata": {
        "id": "zJKTBHOSJtSI"
      },
      "source": [
        "**Definir el Modelo**\n"
      ]
    },
    {
      "cell_type": "markdown",
      "metadata": {
        "id": "tE2tAnVZJv4V"
      },
      "source": [
        "Implica la definición de las capas del modelo, configurar cada capa con un número de nodos y funciones de activación y conectar las capas en un modelo compacto."
      ]
    },
    {
      "cell_type": "code",
      "metadata": {
        "id": "HfjYB3aEJiV9"
      },
      "source": [
        "# definir el modelo\n",
        "model = ..."
      ],
      "execution_count": null,
      "outputs": []
    },
    {
      "cell_type": "markdown",
      "metadata": {
        "id": "Qa9eZNDyxXaG"
      },
      "source": [
        "**Compilar el modelo**\n",
        "\n",
        "Implica llamar una función para compilar el modelo con una configuración dada, la cual preparará las estructuras de datos requeridas para el uso eficiente del modelo.\n",
        "\n",
        "El optimizador se puede especificar como strings, ejemplo: ‘sgd‘ o se puede configurar una instancia de una clase optimizadora."
      ]
    },
    {
      "cell_type": "code",
      "metadata": {
        "id": "uw6c4zuMxaam"
      },
      "source": [
        "# compilar el modelo\n",
        "opt = SGD(learning_rate=0.01, momentum=0.9)\n",
        "model.compile(optimizer=opt, loss='binary_crossentropy')"
      ],
      "execution_count": null,
      "outputs": []
    },
    {
      "cell_type": "markdown",
      "metadata": {
        "id": "q7OjBCcbxkZh"
      },
      "source": [
        "Las tres funciones de perdida (loss) más comunes son::\n",
        "\n",
        "- ‘binary_crossentropy‘ para clasificación binaria.\n",
        "- ‘sparse_categorical_crossentropy‘ para clasificación multiclase.\n",
        "- ‘mse‘ (mean squared error) para regresión."
      ]
    },
    {
      "cell_type": "markdown",
      "metadata": {
        "id": "qp9t2a9wxwn_"
      },
      "source": [
        "Métricas son definidas como listas de strings o una lista de funciones para evaluar predicciones."
      ]
    },
    {
      "cell_type": "code",
      "metadata": {
        "id": "41FUK7p5xnBj"
      },
      "source": [
        "# compilar el modelo\n",
        "model.compile(optimizer='sgd', loss='binary_crossentropy', metrics=['accuracy'])"
      ],
      "execution_count": null,
      "outputs": []
    },
    {
      "cell_type": "markdown",
      "metadata": {
        "id": "oNa9A88tx614"
      },
      "source": [
        "**Ajustar el Modelo (fit - aprendizaje)**\n",
        "\n",
        "Para ajustar el modelo se requiere seleccionar la configuración de entrenamiento, el número de épocas (cuantas veces se recorrerá el dataset) y tamaño de batch (número de muestras en cada época para estimar el error del modelo).\n"
      ]
    },
    {
      "cell_type": "code",
      "metadata": {
        "id": "8UI5pMV5yASa"
      },
      "source": [
        "# ajustar el modelo (aprendizaje)\n",
        "model.fit(X, y, epochs=100, batch_size=32)"
      ],
      "execution_count": null,
      "outputs": []
    },
    {
      "cell_type": "markdown",
      "metadata": {
        "id": "81Fh0pHryigA"
      },
      "source": [
        " Se puede hacer el reporte del desempeño del modelo en cada época, utilizando el argumento “verbose” a 2. Todas las salidas pueden ser apagadas durante entrenamiento, definiendo “verbose” a 0."
      ]
    },
    {
      "cell_type": "code",
      "metadata": {
        "id": "jDkO2b5NynkB"
      },
      "source": [
        "# ajustar el modelo\n",
        "model.fit(X, y, epochs=100, batch_size=32, verbose=0)"
      ],
      "execution_count": null,
      "outputs": []
    },
    {
      "cell_type": "markdown",
      "metadata": {
        "id": "woVtG2CXzIpv"
      },
      "source": [
        "**Evaluar el Modelo**\n",
        "\n",
        "Requiere haber separado una parte del dataset para evaluar el modelo.\n",
        "\n",
        "En la API, implica llamar una función con el conjunto separado para pruebas y obtener la pérdida y métricas  que pueden ser reportadas."
      ]
    },
    {
      "cell_type": "code",
      "metadata": {
        "id": "gEkMmNTRzS-r"
      },
      "source": [
        "# evaluar el modelo\n",
        "loss = model.evaluate(X, y, verbose=0)"
      ],
      "execution_count": null,
      "outputs": []
    },
    {
      "cell_type": "markdown",
      "metadata": {
        "id": "jj9Gqf-GzW-m"
      },
      "source": [
        "**Hacer una predicción**\n",
        "\n",
        "Paso final del ciclo de vida.\n",
        "\n",
        "Se requiere datos nuevos para los que se hará una predicción (sin valores target u objetivos).\n",
        "\n",
        "En términos de API, implica llamar una función para hacer la predicción de una clase, probabilidad o valor numérico.\n",
        "\n"
      ]
    },
    {
      "cell_type": "code",
      "metadata": {
        "id": "fexuCuF6zPbb"
      },
      "source": [
        "# hacer una predicción\n",
        "yhat = model.predict(X)"
      ],
      "execution_count": null,
      "outputs": []
    },
    {
      "cell_type": "markdown",
      "metadata": {
        "id": "UnLH7eeJ1Afl"
      },
      "source": [
        "**1.Deep MLP para clasificación binaria**\n",
        "\n",
        "\n",
        "Se usuará el dataset Ionosphere para clasificación binaria (dos -clases) : https://archive.ics.uci.edu/ml/datasets/ionosphere\n",
        "\n",
        "Este dataset implica predecir si una estructura está o no en la atmosfera, de acuerdo a los datos retornados por radares."
      ]
    },
    {
      "cell_type": "code",
      "metadata": {
        "id": "M32w6ga11SRH"
      },
      "source": [
        "# mlp para clasificación binaria\n",
        "import pandas as pd\n",
        "from sklearn.model_selection import train_test_split\n",
        "from sklearn.preprocessing import LabelEncoder\n",
        "from tensorflow.keras import Sequential\n",
        "from tensorflow.keras.layers import Dense\n",
        "from tensorflow.keras.layers import Dropout\n",
        "from tensorflow.keras.utils import plot_model"
      ],
      "execution_count": null,
      "outputs": []
    },
    {
      "cell_type": "code",
      "metadata": {
        "id": "b5DjypxS1a5t"
      },
      "source": [
        "# carga dataset\n",
        "url = 'https://raw.githubusercontent.com/jbrownlee/Datasets/master/ionosphere.csv'\n",
        "df = pd.read_csv(url, header=None)"
      ],
      "execution_count": null,
      "outputs": []
    },
    {
      "cell_type": "code",
      "metadata": {
        "colab": {
          "base_uri": "https://localhost:8080/",
          "height": 235
        },
        "id": "3ePSOlwx2II_",
        "outputId": "8c2ba37c-42fc-4510-8e5a-fc4840e8f3fc"
      },
      "source": [
        "df.head()"
      ],
      "execution_count": null,
      "outputs": [
        {
          "output_type": "execute_result",
          "data": {
            "text/plain": [
              "   0   1        2        3        4        5        6        7        8   \\\n",
              "0   1   0  0.99539 -0.05889  0.85243  0.02306  0.83398 -0.37708  1.00000   \n",
              "1   1   0  1.00000 -0.18829  0.93035 -0.36156 -0.10868 -0.93597  1.00000   \n",
              "2   1   0  1.00000 -0.03365  1.00000  0.00485  1.00000 -0.12062  0.88965   \n",
              "3   1   0  1.00000 -0.45161  1.00000  1.00000  0.71216 -1.00000  0.00000   \n",
              "4   1   0  1.00000 -0.02401  0.94140  0.06531  0.92106 -0.23255  0.77152   \n",
              "\n",
              "        9   ...       25       26       27       28       29       30  \\\n",
              "0  0.03760  ... -0.51171  0.41078 -0.46168  0.21266 -0.34090  0.42267   \n",
              "1 -0.04549  ... -0.26569 -0.20468 -0.18401 -0.19040 -0.11593 -0.16626   \n",
              "2  0.01198  ... -0.40220  0.58984 -0.22145  0.43100 -0.17365  0.60436   \n",
              "3  0.00000  ...  0.90695  0.51613  1.00000  1.00000 -0.20099  0.25682   \n",
              "4 -0.16399  ... -0.65158  0.13290 -0.53206  0.02431 -0.62197 -0.05707   \n",
              "\n",
              "        31       32       33  34  \n",
              "0 -0.54487  0.18641 -0.45300   g  \n",
              "1 -0.06288 -0.13738 -0.02447   b  \n",
              "2 -0.24180  0.56045 -0.38238   g  \n",
              "3  1.00000 -0.32382  1.00000   b  \n",
              "4 -0.59573 -0.04608 -0.65697   g  \n",
              "\n",
              "[5 rows x 35 columns]"
            ],
            "text/html": [
              "\n",
              "  <div id=\"df-f7bb5c01-da0a-43a4-98cc-777c7468488d\" class=\"colab-df-container\">\n",
              "    <div>\n",
              "<style scoped>\n",
              "    .dataframe tbody tr th:only-of-type {\n",
              "        vertical-align: middle;\n",
              "    }\n",
              "\n",
              "    .dataframe tbody tr th {\n",
              "        vertical-align: top;\n",
              "    }\n",
              "\n",
              "    .dataframe thead th {\n",
              "        text-align: right;\n",
              "    }\n",
              "</style>\n",
              "<table border=\"1\" class=\"dataframe\">\n",
              "  <thead>\n",
              "    <tr style=\"text-align: right;\">\n",
              "      <th></th>\n",
              "      <th>0</th>\n",
              "      <th>1</th>\n",
              "      <th>2</th>\n",
              "      <th>3</th>\n",
              "      <th>4</th>\n",
              "      <th>5</th>\n",
              "      <th>6</th>\n",
              "      <th>7</th>\n",
              "      <th>8</th>\n",
              "      <th>9</th>\n",
              "      <th>...</th>\n",
              "      <th>25</th>\n",
              "      <th>26</th>\n",
              "      <th>27</th>\n",
              "      <th>28</th>\n",
              "      <th>29</th>\n",
              "      <th>30</th>\n",
              "      <th>31</th>\n",
              "      <th>32</th>\n",
              "      <th>33</th>\n",
              "      <th>34</th>\n",
              "    </tr>\n",
              "  </thead>\n",
              "  <tbody>\n",
              "    <tr>\n",
              "      <th>0</th>\n",
              "      <td>1</td>\n",
              "      <td>0</td>\n",
              "      <td>0.99539</td>\n",
              "      <td>-0.05889</td>\n",
              "      <td>0.85243</td>\n",
              "      <td>0.02306</td>\n",
              "      <td>0.83398</td>\n",
              "      <td>-0.37708</td>\n",
              "      <td>1.00000</td>\n",
              "      <td>0.03760</td>\n",
              "      <td>...</td>\n",
              "      <td>-0.51171</td>\n",
              "      <td>0.41078</td>\n",
              "      <td>-0.46168</td>\n",
              "      <td>0.21266</td>\n",
              "      <td>-0.34090</td>\n",
              "      <td>0.42267</td>\n",
              "      <td>-0.54487</td>\n",
              "      <td>0.18641</td>\n",
              "      <td>-0.45300</td>\n",
              "      <td>g</td>\n",
              "    </tr>\n",
              "    <tr>\n",
              "      <th>1</th>\n",
              "      <td>1</td>\n",
              "      <td>0</td>\n",
              "      <td>1.00000</td>\n",
              "      <td>-0.18829</td>\n",
              "      <td>0.93035</td>\n",
              "      <td>-0.36156</td>\n",
              "      <td>-0.10868</td>\n",
              "      <td>-0.93597</td>\n",
              "      <td>1.00000</td>\n",
              "      <td>-0.04549</td>\n",
              "      <td>...</td>\n",
              "      <td>-0.26569</td>\n",
              "      <td>-0.20468</td>\n",
              "      <td>-0.18401</td>\n",
              "      <td>-0.19040</td>\n",
              "      <td>-0.11593</td>\n",
              "      <td>-0.16626</td>\n",
              "      <td>-0.06288</td>\n",
              "      <td>-0.13738</td>\n",
              "      <td>-0.02447</td>\n",
              "      <td>b</td>\n",
              "    </tr>\n",
              "    <tr>\n",
              "      <th>2</th>\n",
              "      <td>1</td>\n",
              "      <td>0</td>\n",
              "      <td>1.00000</td>\n",
              "      <td>-0.03365</td>\n",
              "      <td>1.00000</td>\n",
              "      <td>0.00485</td>\n",
              "      <td>1.00000</td>\n",
              "      <td>-0.12062</td>\n",
              "      <td>0.88965</td>\n",
              "      <td>0.01198</td>\n",
              "      <td>...</td>\n",
              "      <td>-0.40220</td>\n",
              "      <td>0.58984</td>\n",
              "      <td>-0.22145</td>\n",
              "      <td>0.43100</td>\n",
              "      <td>-0.17365</td>\n",
              "      <td>0.60436</td>\n",
              "      <td>-0.24180</td>\n",
              "      <td>0.56045</td>\n",
              "      <td>-0.38238</td>\n",
              "      <td>g</td>\n",
              "    </tr>\n",
              "    <tr>\n",
              "      <th>3</th>\n",
              "      <td>1</td>\n",
              "      <td>0</td>\n",
              "      <td>1.00000</td>\n",
              "      <td>-0.45161</td>\n",
              "      <td>1.00000</td>\n",
              "      <td>1.00000</td>\n",
              "      <td>0.71216</td>\n",
              "      <td>-1.00000</td>\n",
              "      <td>0.00000</td>\n",
              "      <td>0.00000</td>\n",
              "      <td>...</td>\n",
              "      <td>0.90695</td>\n",
              "      <td>0.51613</td>\n",
              "      <td>1.00000</td>\n",
              "      <td>1.00000</td>\n",
              "      <td>-0.20099</td>\n",
              "      <td>0.25682</td>\n",
              "      <td>1.00000</td>\n",
              "      <td>-0.32382</td>\n",
              "      <td>1.00000</td>\n",
              "      <td>b</td>\n",
              "    </tr>\n",
              "    <tr>\n",
              "      <th>4</th>\n",
              "      <td>1</td>\n",
              "      <td>0</td>\n",
              "      <td>1.00000</td>\n",
              "      <td>-0.02401</td>\n",
              "      <td>0.94140</td>\n",
              "      <td>0.06531</td>\n",
              "      <td>0.92106</td>\n",
              "      <td>-0.23255</td>\n",
              "      <td>0.77152</td>\n",
              "      <td>-0.16399</td>\n",
              "      <td>...</td>\n",
              "      <td>-0.65158</td>\n",
              "      <td>0.13290</td>\n",
              "      <td>-0.53206</td>\n",
              "      <td>0.02431</td>\n",
              "      <td>-0.62197</td>\n",
              "      <td>-0.05707</td>\n",
              "      <td>-0.59573</td>\n",
              "      <td>-0.04608</td>\n",
              "      <td>-0.65697</td>\n",
              "      <td>g</td>\n",
              "    </tr>\n",
              "  </tbody>\n",
              "</table>\n",
              "<p>5 rows × 35 columns</p>\n",
              "</div>\n",
              "    <div class=\"colab-df-buttons\">\n",
              "\n",
              "  <div class=\"colab-df-container\">\n",
              "    <button class=\"colab-df-convert\" onclick=\"convertToInteractive('df-f7bb5c01-da0a-43a4-98cc-777c7468488d')\"\n",
              "            title=\"Convert this dataframe to an interactive table.\"\n",
              "            style=\"display:none;\">\n",
              "\n",
              "  <svg xmlns=\"http://www.w3.org/2000/svg\" height=\"24px\" viewBox=\"0 -960 960 960\">\n",
              "    <path d=\"M120-120v-720h720v720H120Zm60-500h600v-160H180v160Zm220 220h160v-160H400v160Zm0 220h160v-160H400v160ZM180-400h160v-160H180v160Zm440 0h160v-160H620v160ZM180-180h160v-160H180v160Zm440 0h160v-160H620v160Z\"/>\n",
              "  </svg>\n",
              "    </button>\n",
              "\n",
              "  <style>\n",
              "    .colab-df-container {\n",
              "      display:flex;\n",
              "      gap: 12px;\n",
              "    }\n",
              "\n",
              "    .colab-df-convert {\n",
              "      background-color: #E8F0FE;\n",
              "      border: none;\n",
              "      border-radius: 50%;\n",
              "      cursor: pointer;\n",
              "      display: none;\n",
              "      fill: #1967D2;\n",
              "      height: 32px;\n",
              "      padding: 0 0 0 0;\n",
              "      width: 32px;\n",
              "    }\n",
              "\n",
              "    .colab-df-convert:hover {\n",
              "      background-color: #E2EBFA;\n",
              "      box-shadow: 0px 1px 2px rgba(60, 64, 67, 0.3), 0px 1px 3px 1px rgba(60, 64, 67, 0.15);\n",
              "      fill: #174EA6;\n",
              "    }\n",
              "\n",
              "    .colab-df-buttons div {\n",
              "      margin-bottom: 4px;\n",
              "    }\n",
              "\n",
              "    [theme=dark] .colab-df-convert {\n",
              "      background-color: #3B4455;\n",
              "      fill: #D2E3FC;\n",
              "    }\n",
              "\n",
              "    [theme=dark] .colab-df-convert:hover {\n",
              "      background-color: #434B5C;\n",
              "      box-shadow: 0px 1px 3px 1px rgba(0, 0, 0, 0.15);\n",
              "      filter: drop-shadow(0px 1px 2px rgba(0, 0, 0, 0.3));\n",
              "      fill: #FFFFFF;\n",
              "    }\n",
              "  </style>\n",
              "\n",
              "    <script>\n",
              "      const buttonEl =\n",
              "        document.querySelector('#df-f7bb5c01-da0a-43a4-98cc-777c7468488d button.colab-df-convert');\n",
              "      buttonEl.style.display =\n",
              "        google.colab.kernel.accessAllowed ? 'block' : 'none';\n",
              "\n",
              "      async function convertToInteractive(key) {\n",
              "        const element = document.querySelector('#df-f7bb5c01-da0a-43a4-98cc-777c7468488d');\n",
              "        const dataTable =\n",
              "          await google.colab.kernel.invokeFunction('convertToInteractive',\n",
              "                                                    [key], {});\n",
              "        if (!dataTable) return;\n",
              "\n",
              "        const docLinkHtml = 'Like what you see? Visit the ' +\n",
              "          '<a target=\"_blank\" href=https://colab.research.google.com/notebooks/data_table.ipynb>data table notebook</a>'\n",
              "          + ' to learn more about interactive tables.';\n",
              "        element.innerHTML = '';\n",
              "        dataTable['output_type'] = 'display_data';\n",
              "        await google.colab.output.renderOutput(dataTable, element);\n",
              "        const docLink = document.createElement('div');\n",
              "        docLink.innerHTML = docLinkHtml;\n",
              "        element.appendChild(docLink);\n",
              "      }\n",
              "    </script>\n",
              "  </div>\n",
              "\n",
              "\n",
              "<div id=\"df-04019e39-045e-4f00-ab79-455141ffdf71\">\n",
              "  <button class=\"colab-df-quickchart\" onclick=\"quickchart('df-04019e39-045e-4f00-ab79-455141ffdf71')\"\n",
              "            title=\"Suggest charts\"\n",
              "            style=\"display:none;\">\n",
              "\n",
              "<svg xmlns=\"http://www.w3.org/2000/svg\" height=\"24px\"viewBox=\"0 0 24 24\"\n",
              "     width=\"24px\">\n",
              "    <g>\n",
              "        <path d=\"M19 3H5c-1.1 0-2 .9-2 2v14c0 1.1.9 2 2 2h14c1.1 0 2-.9 2-2V5c0-1.1-.9-2-2-2zM9 17H7v-7h2v7zm4 0h-2V7h2v10zm4 0h-2v-4h2v4z\"/>\n",
              "    </g>\n",
              "</svg>\n",
              "  </button>\n",
              "\n",
              "<style>\n",
              "  .colab-df-quickchart {\n",
              "      --bg-color: #E8F0FE;\n",
              "      --fill-color: #1967D2;\n",
              "      --hover-bg-color: #E2EBFA;\n",
              "      --hover-fill-color: #174EA6;\n",
              "      --disabled-fill-color: #AAA;\n",
              "      --disabled-bg-color: #DDD;\n",
              "  }\n",
              "\n",
              "  [theme=dark] .colab-df-quickchart {\n",
              "      --bg-color: #3B4455;\n",
              "      --fill-color: #D2E3FC;\n",
              "      --hover-bg-color: #434B5C;\n",
              "      --hover-fill-color: #FFFFFF;\n",
              "      --disabled-bg-color: #3B4455;\n",
              "      --disabled-fill-color: #666;\n",
              "  }\n",
              "\n",
              "  .colab-df-quickchart {\n",
              "    background-color: var(--bg-color);\n",
              "    border: none;\n",
              "    border-radius: 50%;\n",
              "    cursor: pointer;\n",
              "    display: none;\n",
              "    fill: var(--fill-color);\n",
              "    height: 32px;\n",
              "    padding: 0;\n",
              "    width: 32px;\n",
              "  }\n",
              "\n",
              "  .colab-df-quickchart:hover {\n",
              "    background-color: var(--hover-bg-color);\n",
              "    box-shadow: 0 1px 2px rgba(60, 64, 67, 0.3), 0 1px 3px 1px rgba(60, 64, 67, 0.15);\n",
              "    fill: var(--button-hover-fill-color);\n",
              "  }\n",
              "\n",
              "  .colab-df-quickchart-complete:disabled,\n",
              "  .colab-df-quickchart-complete:disabled:hover {\n",
              "    background-color: var(--disabled-bg-color);\n",
              "    fill: var(--disabled-fill-color);\n",
              "    box-shadow: none;\n",
              "  }\n",
              "\n",
              "  .colab-df-spinner {\n",
              "    border: 2px solid var(--fill-color);\n",
              "    border-color: transparent;\n",
              "    border-bottom-color: var(--fill-color);\n",
              "    animation:\n",
              "      spin 1s steps(1) infinite;\n",
              "  }\n",
              "\n",
              "  @keyframes spin {\n",
              "    0% {\n",
              "      border-color: transparent;\n",
              "      border-bottom-color: var(--fill-color);\n",
              "      border-left-color: var(--fill-color);\n",
              "    }\n",
              "    20% {\n",
              "      border-color: transparent;\n",
              "      border-left-color: var(--fill-color);\n",
              "      border-top-color: var(--fill-color);\n",
              "    }\n",
              "    30% {\n",
              "      border-color: transparent;\n",
              "      border-left-color: var(--fill-color);\n",
              "      border-top-color: var(--fill-color);\n",
              "      border-right-color: var(--fill-color);\n",
              "    }\n",
              "    40% {\n",
              "      border-color: transparent;\n",
              "      border-right-color: var(--fill-color);\n",
              "      border-top-color: var(--fill-color);\n",
              "    }\n",
              "    60% {\n",
              "      border-color: transparent;\n",
              "      border-right-color: var(--fill-color);\n",
              "    }\n",
              "    80% {\n",
              "      border-color: transparent;\n",
              "      border-right-color: var(--fill-color);\n",
              "      border-bottom-color: var(--fill-color);\n",
              "    }\n",
              "    90% {\n",
              "      border-color: transparent;\n",
              "      border-bottom-color: var(--fill-color);\n",
              "    }\n",
              "  }\n",
              "</style>\n",
              "\n",
              "  <script>\n",
              "    async function quickchart(key) {\n",
              "      const quickchartButtonEl =\n",
              "        document.querySelector('#' + key + ' button');\n",
              "      quickchartButtonEl.disabled = true;  // To prevent multiple clicks.\n",
              "      quickchartButtonEl.classList.add('colab-df-spinner');\n",
              "      try {\n",
              "        const charts = await google.colab.kernel.invokeFunction(\n",
              "            'suggestCharts', [key], {});\n",
              "      } catch (error) {\n",
              "        console.error('Error during call to suggestCharts:', error);\n",
              "      }\n",
              "      quickchartButtonEl.classList.remove('colab-df-spinner');\n",
              "      quickchartButtonEl.classList.add('colab-df-quickchart-complete');\n",
              "    }\n",
              "    (() => {\n",
              "      let quickchartButtonEl =\n",
              "        document.querySelector('#df-04019e39-045e-4f00-ab79-455141ffdf71 button');\n",
              "      quickchartButtonEl.style.display =\n",
              "        google.colab.kernel.accessAllowed ? 'block' : 'none';\n",
              "    })();\n",
              "  </script>\n",
              "</div>\n",
              "\n",
              "    </div>\n",
              "  </div>\n"
            ],
            "application/vnd.google.colaboratory.intrinsic+json": {
              "type": "dataframe",
              "variable_name": "df"
            }
          },
          "metadata": {},
          "execution_count": 3
        }
      ]
    },
    {
      "cell_type": "code",
      "metadata": {
        "id": "4CSaDkE_1fkR"
      },
      "source": [
        "# divide datos en X, y (target)\n",
        "X, y = df.values[:, :-1], df.values[:, -1]\n",
        "# garantiza que los datos sean flotantes\n",
        "X = X.astype('float32')"
      ],
      "execution_count": null,
      "outputs": []
    },
    {
      "cell_type": "code",
      "metadata": {
        "id": "E8Z8FO301jEh"
      },
      "source": [
        "# codifica cadenas a enteros\n",
        "y = LabelEncoder().fit_transform(y)\n"
      ],
      "execution_count": null,
      "outputs": []
    },
    {
      "cell_type": "code",
      "metadata": {
        "colab": {
          "base_uri": "https://localhost:8080/"
        },
        "id": "DthOs6ByFy3n",
        "outputId": "b1f28c3a-429f-4f3d-df91-19bfffaa3117"
      },
      "source": [
        "y[:4]"
      ],
      "execution_count": null,
      "outputs": [
        {
          "output_type": "execute_result",
          "data": {
            "text/plain": [
              "array([1, 0, 1, 0])"
            ]
          },
          "metadata": {},
          "execution_count": 6
        }
      ]
    },
    {
      "cell_type": "code",
      "metadata": {
        "colab": {
          "base_uri": "https://localhost:8080/"
        },
        "id": "qy8Wftj6Fv2n",
        "outputId": "a0f15c5b-bb96-4bc7-d762-c7560722dfb0"
      },
      "source": [
        "# divide conjunto de entrenamiento y prueba\n",
        "X_train, X_test, y_train, y_test = train_test_split(X, y, test_size=0.33, random_state=42)\n",
        "print(X_train.shape, X_test.shape, y_train.shape, y_test.shape)\n"
      ],
      "execution_count": null,
      "outputs": [
        {
          "output_type": "stream",
          "name": "stdout",
          "text": [
            "(235, 34) (116, 34) (235,) (116,)\n"
          ]
        }
      ]
    },
    {
      "cell_type": "code",
      "metadata": {
        "colab": {
          "base_uri": "https://localhost:8080/"
        },
        "id": "-PyXZ0A-ugiP",
        "outputId": "2f4b4f78-ba94-4673-8d33-26e48a27e6ef"
      },
      "source": [
        "y_test"
      ],
      "execution_count": null,
      "outputs": [
        {
          "output_type": "execute_result",
          "data": {
            "text/plain": [
              "array([1, 1, 1, 0, 1, 1, 1, 1, 1, 1, 0, 0, 0, 0, 1, 0, 1, 0, 1, 0, 1, 0,\n",
              "       0, 1, 1, 0, 0, 0, 0, 1, 1, 1, 1, 1, 1, 0, 1, 1, 0, 1, 1, 1, 1, 0,\n",
              "       1, 0, 0, 1, 0, 1, 1, 0, 0, 1, 0, 1, 1, 1, 1, 0, 0, 0, 0, 1, 1, 1,\n",
              "       1, 1, 1, 1, 0, 1, 1, 1, 1, 1, 0, 0, 0, 1, 1, 1, 1, 1, 1, 1, 1, 0,\n",
              "       0, 0, 1, 0, 0, 1, 1, 1, 0, 1, 1, 1, 0, 1, 1, 1, 0, 1, 0, 0, 1, 1,\n",
              "       0, 1, 0, 1, 0, 0])"
            ]
          },
          "metadata": {},
          "execution_count": 8
        }
      ]
    },
    {
      "cell_type": "markdown",
      "metadata": {
        "id": "osDGPAQZ1n54"
      },
      "source": [
        "**Modelo**"
      ]
    },
    {
      "cell_type": "code",
      "metadata": {
        "id": "vMf5Rw5g1tet"
      },
      "source": [
        "# determina el número de características de entrada\n",
        "n_features = X_train.shape[1] # 34\n",
        "\n"
      ],
      "execution_count": null,
      "outputs": []
    },
    {
      "cell_type": "code",
      "source": [
        "# define el modelo\n",
        "model = Sequential()\n",
        "model.add(Dense(10, activation='relu', kernel_initializer='he_normal', input_shape=(n_features,)))\n",
        "model.add(Dense(10, activation='relu', kernel_initializer='he_normal'))\n",
        "model.add(Dense(10, activation='relu', kernel_initializer='he_normal'))\n",
        "model.add(Dense(8, activation='relu', kernel_initializer='he_normal'))\n",
        "model.add(Dense(1, activation='sigmoid'))"
      ],
      "metadata": {
        "id": "BfpPsBRsh0U3",
        "colab": {
          "base_uri": "https://localhost:8080/"
        },
        "outputId": "b071ed6a-c01c-4700-e4e8-a2856172cc78"
      },
      "execution_count": null,
      "outputs": [
        {
          "output_type": "stream",
          "name": "stderr",
          "text": [
            "/usr/local/lib/python3.10/dist-packages/keras/src/layers/core/dense.py:87: UserWarning: Do not pass an `input_shape`/`input_dim` argument to a layer. When using Sequential models, prefer using an `Input(shape)` object as the first layer in the model instead.\n",
            "  super().__init__(activity_regularizer=activity_regularizer, **kwargs)\n"
          ]
        }
      ]
    },
    {
      "cell_type": "code",
      "metadata": {
        "id": "M05vkYJw1tyO"
      },
      "source": [
        "# compila el modelo\n",
        "model.compile(optimizer='adam', loss='binary_crossentropy', metrics=['accuracy'])\n"
      ],
      "execution_count": null,
      "outputs": []
    },
    {
      "cell_type": "code",
      "metadata": {
        "colab": {
          "base_uri": "https://localhost:8080/",
          "height": 289
        },
        "id": "wJeQKs0fHLq4",
        "outputId": "c07b120e-d70a-47cb-e241-945ddcd0f5df"
      },
      "source": [
        "model.summary()"
      ],
      "execution_count": null,
      "outputs": [
        {
          "output_type": "display_data",
          "data": {
            "text/plain": [
              "\u001b[1mModel: \"sequential\"\u001b[0m\n"
            ],
            "text/html": [
              "<pre style=\"white-space:pre;overflow-x:auto;line-height:normal;font-family:Menlo,'DejaVu Sans Mono',consolas,'Courier New',monospace\"><span style=\"font-weight: bold\">Model: \"sequential\"</span>\n",
              "</pre>\n"
            ]
          },
          "metadata": {}
        },
        {
          "output_type": "display_data",
          "data": {
            "text/plain": [
              "┏━━━━━━━━━━━━━━━━━━━━━━━━━━━━━━━━━━━━━━┳━━━━━━━━━━━━━━━━━━━━━━━━━━━━━┳━━━━━━━━━━━━━━━━━┓\n",
              "┃\u001b[1m \u001b[0m\u001b[1mLayer (type)                        \u001b[0m\u001b[1m \u001b[0m┃\u001b[1m \u001b[0m\u001b[1mOutput Shape               \u001b[0m\u001b[1m \u001b[0m┃\u001b[1m \u001b[0m\u001b[1m        Param #\u001b[0m\u001b[1m \u001b[0m┃\n",
              "┡━━━━━━━━━━━━━━━━━━━━━━━━━━━━━━━━━━━━━━╇━━━━━━━━━━━━━━━━━━━━━━━━━━━━━╇━━━━━━━━━━━━━━━━━┩\n",
              "│ dense (\u001b[38;5;33mDense\u001b[0m)                        │ (\u001b[38;5;45mNone\u001b[0m, \u001b[38;5;34m10\u001b[0m)                  │             \u001b[38;5;34m350\u001b[0m │\n",
              "├──────────────────────────────────────┼─────────────────────────────┼─────────────────┤\n",
              "│ dense_1 (\u001b[38;5;33mDense\u001b[0m)                      │ (\u001b[38;5;45mNone\u001b[0m, \u001b[38;5;34m10\u001b[0m)                  │             \u001b[38;5;34m110\u001b[0m │\n",
              "├──────────────────────────────────────┼─────────────────────────────┼─────────────────┤\n",
              "│ dense_2 (\u001b[38;5;33mDense\u001b[0m)                      │ (\u001b[38;5;45mNone\u001b[0m, \u001b[38;5;34m10\u001b[0m)                  │             \u001b[38;5;34m110\u001b[0m │\n",
              "├──────────────────────────────────────┼─────────────────────────────┼─────────────────┤\n",
              "│ dense_3 (\u001b[38;5;33mDense\u001b[0m)                      │ (\u001b[38;5;45mNone\u001b[0m, \u001b[38;5;34m8\u001b[0m)                   │              \u001b[38;5;34m88\u001b[0m │\n",
              "├──────────────────────────────────────┼─────────────────────────────┼─────────────────┤\n",
              "│ dense_4 (\u001b[38;5;33mDense\u001b[0m)                      │ (\u001b[38;5;45mNone\u001b[0m, \u001b[38;5;34m1\u001b[0m)                   │               \u001b[38;5;34m9\u001b[0m │\n",
              "└──────────────────────────────────────┴─────────────────────────────┴─────────────────┘\n"
            ],
            "text/html": [
              "<pre style=\"white-space:pre;overflow-x:auto;line-height:normal;font-family:Menlo,'DejaVu Sans Mono',consolas,'Courier New',monospace\">┏━━━━━━━━━━━━━━━━━━━━━━━━━━━━━━━━━━━━━━┳━━━━━━━━━━━━━━━━━━━━━━━━━━━━━┳━━━━━━━━━━━━━━━━━┓\n",
              "┃<span style=\"font-weight: bold\"> Layer (type)                         </span>┃<span style=\"font-weight: bold\"> Output Shape                </span>┃<span style=\"font-weight: bold\">         Param # </span>┃\n",
              "┡━━━━━━━━━━━━━━━━━━━━━━━━━━━━━━━━━━━━━━╇━━━━━━━━━━━━━━━━━━━━━━━━━━━━━╇━━━━━━━━━━━━━━━━━┩\n",
              "│ dense (<span style=\"color: #0087ff; text-decoration-color: #0087ff\">Dense</span>)                        │ (<span style=\"color: #00d7ff; text-decoration-color: #00d7ff\">None</span>, <span style=\"color: #00af00; text-decoration-color: #00af00\">10</span>)                  │             <span style=\"color: #00af00; text-decoration-color: #00af00\">350</span> │\n",
              "├──────────────────────────────────────┼─────────────────────────────┼─────────────────┤\n",
              "│ dense_1 (<span style=\"color: #0087ff; text-decoration-color: #0087ff\">Dense</span>)                      │ (<span style=\"color: #00d7ff; text-decoration-color: #00d7ff\">None</span>, <span style=\"color: #00af00; text-decoration-color: #00af00\">10</span>)                  │             <span style=\"color: #00af00; text-decoration-color: #00af00\">110</span> │\n",
              "├──────────────────────────────────────┼─────────────────────────────┼─────────────────┤\n",
              "│ dense_2 (<span style=\"color: #0087ff; text-decoration-color: #0087ff\">Dense</span>)                      │ (<span style=\"color: #00d7ff; text-decoration-color: #00d7ff\">None</span>, <span style=\"color: #00af00; text-decoration-color: #00af00\">10</span>)                  │             <span style=\"color: #00af00; text-decoration-color: #00af00\">110</span> │\n",
              "├──────────────────────────────────────┼─────────────────────────────┼─────────────────┤\n",
              "│ dense_3 (<span style=\"color: #0087ff; text-decoration-color: #0087ff\">Dense</span>)                      │ (<span style=\"color: #00d7ff; text-decoration-color: #00d7ff\">None</span>, <span style=\"color: #00af00; text-decoration-color: #00af00\">8</span>)                   │              <span style=\"color: #00af00; text-decoration-color: #00af00\">88</span> │\n",
              "├──────────────────────────────────────┼─────────────────────────────┼─────────────────┤\n",
              "│ dense_4 (<span style=\"color: #0087ff; text-decoration-color: #0087ff\">Dense</span>)                      │ (<span style=\"color: #00d7ff; text-decoration-color: #00d7ff\">None</span>, <span style=\"color: #00af00; text-decoration-color: #00af00\">1</span>)                   │               <span style=\"color: #00af00; text-decoration-color: #00af00\">9</span> │\n",
              "└──────────────────────────────────────┴─────────────────────────────┴─────────────────┘\n",
              "</pre>\n"
            ]
          },
          "metadata": {}
        },
        {
          "output_type": "display_data",
          "data": {
            "text/plain": [
              "\u001b[1m Total params: \u001b[0m\u001b[38;5;34m667\u001b[0m (2.61 KB)\n"
            ],
            "text/html": [
              "<pre style=\"white-space:pre;overflow-x:auto;line-height:normal;font-family:Menlo,'DejaVu Sans Mono',consolas,'Courier New',monospace\"><span style=\"font-weight: bold\"> Total params: </span><span style=\"color: #00af00; text-decoration-color: #00af00\">667</span> (2.61 KB)\n",
              "</pre>\n"
            ]
          },
          "metadata": {}
        },
        {
          "output_type": "display_data",
          "data": {
            "text/plain": [
              "\u001b[1m Trainable params: \u001b[0m\u001b[38;5;34m667\u001b[0m (2.61 KB)\n"
            ],
            "text/html": [
              "<pre style=\"white-space:pre;overflow-x:auto;line-height:normal;font-family:Menlo,'DejaVu Sans Mono',consolas,'Courier New',monospace\"><span style=\"font-weight: bold\"> Trainable params: </span><span style=\"color: #00af00; text-decoration-color: #00af00\">667</span> (2.61 KB)\n",
              "</pre>\n"
            ]
          },
          "metadata": {}
        },
        {
          "output_type": "display_data",
          "data": {
            "text/plain": [
              "\u001b[1m Non-trainable params: \u001b[0m\u001b[38;5;34m0\u001b[0m (0.00 B)\n"
            ],
            "text/html": [
              "<pre style=\"white-space:pre;overflow-x:auto;line-height:normal;font-family:Menlo,'DejaVu Sans Mono',consolas,'Courier New',monospace\"><span style=\"font-weight: bold\"> Non-trainable params: </span><span style=\"color: #00af00; text-decoration-color: #00af00\">0</span> (0.00 B)\n",
              "</pre>\n"
            ]
          },
          "metadata": {}
        }
      ]
    },
    {
      "cell_type": "code",
      "metadata": {
        "colab": {
          "base_uri": "https://localhost:8080/"
        },
        "id": "9FwfSdsG1D14",
        "outputId": "f80bcd72-0b8b-4048-8f04-d298923ff94b"
      },
      "source": [
        "# ajustar el modelo (aprendizaje)\n",
        "model.fit(X_train, y_train, epochs=150, batch_size=32, verbose=0)\n"
      ],
      "execution_count": null,
      "outputs": [
        {
          "output_type": "execute_result",
          "data": {
            "text/plain": [
              "<keras.src.callbacks.history.History at 0x7e38d01ef250>"
            ]
          },
          "metadata": {},
          "execution_count": 13
        }
      ]
    },
    {
      "cell_type": "code",
      "metadata": {
        "colab": {
          "base_uri": "https://localhost:8080/"
        },
        "id": "ZqZFMJzx1zdX",
        "outputId": "4fd47139-d9fc-4476-be65-6a4fa92a16c3"
      },
      "source": [
        "# evaluar el modelo\n",
        "loss, acc = model.evaluate(X_test, y_test, verbose=0)\n",
        "print('Accuracy prueba: %.3f' % acc)\n",
        " #0.914"
      ],
      "execution_count": null,
      "outputs": [
        {
          "output_type": "stream",
          "name": "stdout",
          "text": [
            "Accuracy prueba: 0.922\n"
          ]
        }
      ]
    },
    {
      "cell_type": "code",
      "source": [
        "import numpy as np"
      ],
      "metadata": {
        "id": "zQh8Xawk_dTX"
      },
      "execution_count": null,
      "outputs": []
    },
    {
      "cell_type": "code",
      "metadata": {
        "colab": {
          "base_uri": "https://localhost:8080/"
        },
        "id": "1x7K8EzA2Aou",
        "outputId": "cd1cc673-de1f-49ce-9818-76d077f86322"
      },
      "source": [
        "# realizar una predicción\n",
        "row =[1,0,0.99539,-0.05889,0.85243,0.02306,0.83398,-0.37708,1,0.03760,0.85243,-0.17755,0.59755,-0.44945,0.60536,-0.38223,0.84356,-0.38542,0.58212,-0.32192,0.56971,-0.29674,0.36946,-0.47357,0.56811,-0.51171,0.41078,-0.46168,0.21266,-0.34090,0.42267,-0.54487,0.18641,-0.45300]\n",
        "yhat = model.predict(np.array([row]))\n",
        "print('Predicho: %.3f' % yhat)"
      ],
      "execution_count": null,
      "outputs": [
        {
          "output_type": "stream",
          "name": "stdout",
          "text": [
            "\u001b[1m1/1\u001b[0m \u001b[32m━━━━━━━━━━━━━━━━━━━━\u001b[0m\u001b[37m\u001b[0m \u001b[1m0s\u001b[0m 499ms/step\n",
            "Predicho: 0.963\n"
          ]
        },
        {
          "output_type": "stream",
          "name": "stderr",
          "text": [
            "<ipython-input-16-da5762479d9d>:4: DeprecationWarning: Conversion of an array with ndim > 0 to a scalar is deprecated, and will error in future. Ensure you extract a single element from your array before performing this operation. (Deprecated NumPy 1.25.)\n",
            "  print('Predicho: %.3f' % yhat)\n"
          ]
        }
      ]
    },
    {
      "cell_type": "markdown",
      "metadata": {
        "id": "6d8CZ0dQ4SEc"
      },
      "source": [
        "**2. Desarrollar modelos de Redes Neuronales Convolucionales**\n",
        "\n",
        "Modelos con capas convolucionales que extraen características (llamadas mapas de características) y capas pooling que extraen elemenos más salientes de las características.\n",
        "\n",
        "CNNs son adecuadas para tareas de clasificación de imágenes, aunque pueden ser usadas en otras tareas que tengan imágenes como entrada.\n",
        "\n",
        "Una tarea de clasificación de imágenes popular es clasificación de digitos MNIST. Implica algunos miles de digitos escritos a mano que deben ser clasificados entre 0 y 9.\n",
        "\n",
        "Modelos CNN reciben imágenes en formato de canales (channels) al final, cada ejemplo enviado a la red tiene dimensiones [rows, columns, channels], donde ``channels''\n",
        " representa los canales de color de los datos de la imagen(RGB).\n",
        "\n"
      ]
    },
    {
      "cell_type": "markdown",
      "metadata": {
        "id": "16kXKo2r5jZm"
      },
      "source": [
        "El código carga las imágenes y muestra algunas de ellas."
      ]
    },
    {
      "cell_type": "code",
      "metadata": {
        "colab": {
          "base_uri": "https://localhost:8080/"
        },
        "id": "hkJkWpQSWuF-",
        "outputId": "451d70f7-d4bf-44dd-ff77-109552b32fa3"
      },
      "source": [
        "# example of loading and plotting the mnist dataset\n",
        "from tensorflow.keras.datasets.mnist import load_data\n",
        "from matplotlib import pyplot\n",
        "# load dataset\n",
        "(trainX, trainy), (testX, testy) = load_data()\n",
        "# summarize loaded dataset\n",
        "print('Entrenamiento: X=%s, y=%s' % (trainX.shape, trainy.shape))\n",
        "print('Prueba: X=%s, y=%s' % (testX.shape, testy.shape))"
      ],
      "execution_count": null,
      "outputs": [
        {
          "output_type": "stream",
          "name": "stdout",
          "text": [
            "Downloading data from https://storage.googleapis.com/tensorflow/tf-keras-datasets/mnist.npz\n",
            "\u001b[1m11490434/11490434\u001b[0m \u001b[32m━━━━━━━━━━━━━━━━━━━━\u001b[0m\u001b[37m\u001b[0m \u001b[1m1s\u001b[0m 0us/step\n",
            "Entrenamiento: X=(60000, 28, 28), y=(60000,)\n",
            "Prueba: X=(10000, 28, 28), y=(10000,)\n"
          ]
        }
      ]
    },
    {
      "cell_type": "code",
      "metadata": {
        "colab": {
          "base_uri": "https://localhost:8080/",
          "height": 434
        },
        "id": "7quzz_3m5Ic8",
        "outputId": "5c690ef2-6158-4939-8ef5-db9dfd5ff5b5"
      },
      "source": [
        "\n",
        "# muestra algunas imágenes\n",
        "for i in range(25):\n",
        "\t# define subplot\n",
        "\tpyplot.subplot(5, 5, i+1)\n",
        "\t# plot raw pixel data\n",
        "\tpyplot.imshow(trainX[i], cmap=pyplot.get_cmap('gray'))\n",
        "# show the figure\n",
        "pyplot.show()"
      ],
      "execution_count": null,
      "outputs": [
        {
          "output_type": "display_data",
          "data": {
            "text/plain": [
              "<Figure size 640x480 with 25 Axes>"
            ],
            "image/png": "[encoded data removed]"
          },
          "metadata": {}
        }
      ]
    },
    {
      "cell_type": "markdown",
      "source": [
        "Librerías"
      ],
      "metadata": {
        "id": "nMkVRUptpIYw"
      }
    },
    {
      "cell_type": "code",
      "metadata": {
        "id": "bI7I6Sj3AVe7"
      },
      "source": [
        "from tensorflow.keras.layers import Dense\n",
        "from tensorflow.keras.layers import Conv2D\n",
        "from tensorflow.keras.layers import MaxPool2D\n",
        "from tensorflow.keras.layers import Flatten\n",
        "from tensorflow.keras.layers import Dropout\n",
        "import numpy as np\n"
      ],
      "execution_count": null,
      "outputs": []
    },
    {
      "cell_type": "code",
      "source": [
        "# carga dataset\n",
        "(x_train, y_train), (x_test, y_test) = load_data()\n",
        "x_train.shape"
      ],
      "metadata": {
        "colab": {
          "base_uri": "https://localhost:8080/"
        },
        "id": "RYClA3pnkBuD",
        "outputId": "1f59b732-9df4-4bc3-9a36-44abec4f034e"
      },
      "execution_count": null,
      "outputs": [
        {
          "output_type": "execute_result",
          "data": {
            "text/plain": [
              "(60000, 28, 28)"
            ]
          },
          "metadata": {},
          "execution_count": 4
        }
      ]
    },
    {
      "cell_type": "code",
      "metadata": {
        "colab": {
          "base_uri": "https://localhost:8080/"
        },
        "id": "dXA5vF5hAizx",
        "outputId": "6a9f4224-2757-4689-d16e-e8f7e64f7baf"
      },
      "source": [
        "\n",
        "# reshape datos para que tenga un solo canal\n",
        "x_train = x_train.reshape((x_train.shape[0], x_train.shape[1], x_train.shape[2], 1))\n",
        "x_test = x_test.reshape((x_test.shape[0], x_test.shape[1], x_test.shape[2], 1))\n",
        "# determina la dimensión de las imágenes de entrada (28,28,1)\n",
        "in_shape = x_train.shape[1:]\n",
        "# determina el número de clases (10)\n",
        "n_classes = len(np.unique(y_train))\n",
        "print(in_shape, n_classes)\n"
      ],
      "execution_count": null,
      "outputs": [
        {
          "output_type": "stream",
          "name": "stdout",
          "text": [
            "(28, 28, 1) 10\n"
          ]
        }
      ]
    },
    {
      "cell_type": "code",
      "source": [
        "x_train.shape"
      ],
      "metadata": {
        "colab": {
          "base_uri": "https://localhost:8080/"
        },
        "id": "wYLvkJZk5NGb",
        "outputId": "21b4a091-aecf-47f0-b1a1-7d7108b17edf"
      },
      "execution_count": null,
      "outputs": [
        {
          "output_type": "execute_result",
          "data": {
            "text/plain": [
              "(60000, 28, 28, 1)"
            ]
          },
          "metadata": {},
          "execution_count": 6
        }
      ]
    },
    {
      "cell_type": "code",
      "metadata": {
        "id": "q0Ib76TbAsC3"
      },
      "source": [
        "# normalizar los valores de las intensidades de pixeles\n",
        "x_train = x_train.astype('float32') / 255.0\n",
        "x_test = x_test.astype('float32') / 255.0\n"
      ],
      "execution_count": null,
      "outputs": []
    },
    {
      "cell_type": "code",
      "metadata": {
        "id": "PG9F7Z-jAxnp",
        "colab": {
          "base_uri": "https://localhost:8080/"
        },
        "outputId": "4a781cc1-dfbf-47e2-d43d-d98d82d70a95"
      },
      "source": [
        "# definir el  modelo\n",
        "model = Sequential()\n",
        "model.add(Conv2D(32, (3,3), activation='relu', kernel_initializer='he_uniform', input_shape=in_shape)) # 32 filtros de 3x3 en primera capa\n",
        "model.add(MaxPool2D((2, 2)))\n",
        "model.add(Flatten()) # transformación en un vector plano de datos para conectarse a una MLP\n",
        "model.add(Dense(100, activation='relu', kernel_initializer='he_uniform')) # capa intermedia completamente conectada\n",
        "model.add(Dropout(0.5)) # ayuda a atenuar el overfitting\n",
        "model.add(Dense(n_classes, activation='softmax')) # 10\n"
      ],
      "execution_count": null,
      "outputs": [
        {
          "output_type": "stream",
          "name": "stderr",
          "text": [
            "/usr/local/lib/python3.10/dist-packages/keras/src/layers/convolutional/base_conv.py:107: UserWarning: Do not pass an `input_shape`/`input_dim` argument to a layer. When using Sequential models, prefer using an `Input(shape)` object as the first layer in the model instead.\n",
            "  super().__init__(activity_regularizer=activity_regularizer, **kwargs)\n"
          ]
        }
      ]
    },
    {
      "cell_type": "code",
      "metadata": {
        "colab": {
          "base_uri": "https://localhost:8080/",
          "height": 321
        },
        "id": "FCU6LPB6BRN9",
        "outputId": "e020c68b-8f9f-42c9-be4d-3a359560e4c9"
      },
      "source": [
        "model.summary()"
      ],
      "execution_count": null,
      "outputs": [
        {
          "output_type": "display_data",
          "data": {
            "text/plain": [
              "\u001b[1mModel: \"sequential\"\u001b[0m\n"
            ],
            "text/html": [
              "<pre style=\"white-space:pre;overflow-x:auto;line-height:normal;font-family:Menlo,'DejaVu Sans Mono',consolas,'Courier New',monospace\"><span style=\"font-weight: bold\">Model: \"sequential\"</span>\n",
              "</pre>\n"
            ]
          },
          "metadata": {}
        },
        {
          "output_type": "display_data",
          "data": {
            "text/plain": [
              "┏━━━━━━━━━━━━━━━━━━━━━━━━━━━━━━━━━━━━━━┳━━━━━━━━━━━━━━━━━━━━━━━━━━━━━┳━━━━━━━━━━━━━━━━━┓\n",
              "┃\u001b[1m \u001b[0m\u001b[1mLayer (type)                        \u001b[0m\u001b[1m \u001b[0m┃\u001b[1m \u001b[0m\u001b[1mOutput Shape               \u001b[0m\u001b[1m \u001b[0m┃\u001b[1m \u001b[0m\u001b[1m        Param #\u001b[0m\u001b[1m \u001b[0m┃\n",
              "┡━━━━━━━━━━━━━━━━━━━━━━━━━━━━━━━━━━━━━━╇━━━━━━━━━━━━━━━━━━━━━━━━━━━━━╇━━━━━━━━━━━━━━━━━┩\n",
              "│ conv2d (\u001b[38;5;33mConv2D\u001b[0m)                      │ (\u001b[38;5;45mNone\u001b[0m, \u001b[38;5;34m26\u001b[0m, \u001b[38;5;34m26\u001b[0m, \u001b[38;5;34m32\u001b[0m)          │             \u001b[38;5;34m320\u001b[0m │\n",
              "├──────────────────────────────────────┼─────────────────────────────┼─────────────────┤\n",
              "│ max_pooling2d (\u001b[38;5;33mMaxPooling2D\u001b[0m)         │ (\u001b[38;5;45mNone\u001b[0m, \u001b[38;5;34m13\u001b[0m, \u001b[38;5;34m13\u001b[0m, \u001b[38;5;34m32\u001b[0m)          │               \u001b[38;5;34m0\u001b[0m │\n",
              "├──────────────────────────────────────┼─────────────────────────────┼─────────────────┤\n",
              "│ flatten (\u001b[38;5;33mFlatten\u001b[0m)                    │ (\u001b[38;5;45mNone\u001b[0m, \u001b[38;5;34m5408\u001b[0m)                │               \u001b[38;5;34m0\u001b[0m │\n",
              "├──────────────────────────────────────┼─────────────────────────────┼─────────────────┤\n",
              "│ dense (\u001b[38;5;33mDense\u001b[0m)                        │ (\u001b[38;5;45mNone\u001b[0m, \u001b[38;5;34m100\u001b[0m)                 │         \u001b[38;5;34m540,900\u001b[0m │\n",
              "├──────────────────────────────────────┼─────────────────────────────┼─────────────────┤\n",
              "│ dropout (\u001b[38;5;33mDropout\u001b[0m)                    │ (\u001b[38;5;45mNone\u001b[0m, \u001b[38;5;34m100\u001b[0m)                 │               \u001b[38;5;34m0\u001b[0m │\n",
              "├──────────────────────────────────────┼─────────────────────────────┼─────────────────┤\n",
              "│ dense_1 (\u001b[38;5;33mDense\u001b[0m)                      │ (\u001b[38;5;45mNone\u001b[0m, \u001b[38;5;34m10\u001b[0m)                  │           \u001b[38;5;34m1,010\u001b[0m │\n",
              "└──────────────────────────────────────┴─────────────────────────────┴─────────────────┘\n"
            ],
            "text/html": [
              "<pre style=\"white-space:pre;overflow-x:auto;line-height:normal;font-family:Menlo,'DejaVu Sans Mono',consolas,'Courier New',monospace\">┏━━━━━━━━━━━━━━━━━━━━━━━━━━━━━━━━━━━━━━┳━━━━━━━━━━━━━━━━━━━━━━━━━━━━━┳━━━━━━━━━━━━━━━━━┓\n",
              "┃<span style=\"font-weight: bold\"> Layer (type)                         </span>┃<span style=\"font-weight: bold\"> Output Shape                </span>┃<span style=\"font-weight: bold\">         Param # </span>┃\n",
              "┡━━━━━━━━━━━━━━━━━━━━━━━━━━━━━━━━━━━━━━╇━━━━━━━━━━━━━━━━━━━━━━━━━━━━━╇━━━━━━━━━━━━━━━━━┩\n",
              "│ conv2d (<span style=\"color: #0087ff; text-decoration-color: #0087ff\">Conv2D</span>)                      │ (<span style=\"color: #00d7ff; text-decoration-color: #00d7ff\">None</span>, <span style=\"color: #00af00; text-decoration-color: #00af00\">26</span>, <span style=\"color: #00af00; text-decoration-color: #00af00\">26</span>, <span style=\"color: #00af00; text-decoration-color: #00af00\">32</span>)          │             <span style=\"color: #00af00; text-decoration-color: #00af00\">320</span> │\n",
              "├──────────────────────────────────────┼─────────────────────────────┼─────────────────┤\n",
              "│ max_pooling2d (<span style=\"color: #0087ff; text-decoration-color: #0087ff\">MaxPooling2D</span>)         │ (<span style=\"color: #00d7ff; text-decoration-color: #00d7ff\">None</span>, <span style=\"color: #00af00; text-decoration-color: #00af00\">13</span>, <span style=\"color: #00af00; text-decoration-color: #00af00\">13</span>, <span style=\"color: #00af00; text-decoration-color: #00af00\">32</span>)          │               <span style=\"color: #00af00; text-decoration-color: #00af00\">0</span> │\n",
              "├──────────────────────────────────────┼─────────────────────────────┼─────────────────┤\n",
              "│ flatten (<span style=\"color: #0087ff; text-decoration-color: #0087ff\">Flatten</span>)                    │ (<span style=\"color: #00d7ff; text-decoration-color: #00d7ff\">None</span>, <span style=\"color: #00af00; text-decoration-color: #00af00\">5408</span>)                │               <span style=\"color: #00af00; text-decoration-color: #00af00\">0</span> │\n",
              "├──────────────────────────────────────┼─────────────────────────────┼─────────────────┤\n",
              "│ dense (<span style=\"color: #0087ff; text-decoration-color: #0087ff\">Dense</span>)                        │ (<span style=\"color: #00d7ff; text-decoration-color: #00d7ff\">None</span>, <span style=\"color: #00af00; text-decoration-color: #00af00\">100</span>)                 │         <span style=\"color: #00af00; text-decoration-color: #00af00\">540,900</span> │\n",
              "├──────────────────────────────────────┼─────────────────────────────┼─────────────────┤\n",
              "│ dropout (<span style=\"color: #0087ff; text-decoration-color: #0087ff\">Dropout</span>)                    │ (<span style=\"color: #00d7ff; text-decoration-color: #00d7ff\">None</span>, <span style=\"color: #00af00; text-decoration-color: #00af00\">100</span>)                 │               <span style=\"color: #00af00; text-decoration-color: #00af00\">0</span> │\n",
              "├──────────────────────────────────────┼─────────────────────────────┼─────────────────┤\n",
              "│ dense_1 (<span style=\"color: #0087ff; text-decoration-color: #0087ff\">Dense</span>)                      │ (<span style=\"color: #00d7ff; text-decoration-color: #00d7ff\">None</span>, <span style=\"color: #00af00; text-decoration-color: #00af00\">10</span>)                  │           <span style=\"color: #00af00; text-decoration-color: #00af00\">1,010</span> │\n",
              "└──────────────────────────────────────┴─────────────────────────────┴─────────────────┘\n",
              "</pre>\n"
            ]
          },
          "metadata": {}
        },
        {
          "output_type": "display_data",
          "data": {
            "text/plain": [
              "\u001b[1m Total params: \u001b[0m\u001b[38;5;34m542,230\u001b[0m (2.07 MB)\n"
            ],
            "text/html": [
              "<pre style=\"white-space:pre;overflow-x:auto;line-height:normal;font-family:Menlo,'DejaVu Sans Mono',consolas,'Courier New',monospace\"><span style=\"font-weight: bold\"> Total params: </span><span style=\"color: #00af00; text-decoration-color: #00af00\">542,230</span> (2.07 MB)\n",
              "</pre>\n"
            ]
          },
          "metadata": {}
        },
        {
          "output_type": "display_data",
          "data": {
            "text/plain": [
              "\u001b[1m Trainable params: \u001b[0m\u001b[38;5;34m542,230\u001b[0m (2.07 MB)\n"
            ],
            "text/html": [
              "<pre style=\"white-space:pre;overflow-x:auto;line-height:normal;font-family:Menlo,'DejaVu Sans Mono',consolas,'Courier New',monospace\"><span style=\"font-weight: bold\"> Trainable params: </span><span style=\"color: #00af00; text-decoration-color: #00af00\">542,230</span> (2.07 MB)\n",
              "</pre>\n"
            ]
          },
          "metadata": {}
        },
        {
          "output_type": "display_data",
          "data": {
            "text/plain": [
              "\u001b[1m Non-trainable params: \u001b[0m\u001b[38;5;34m0\u001b[0m (0.00 B)\n"
            ],
            "text/html": [
              "<pre style=\"white-space:pre;overflow-x:auto;line-height:normal;font-family:Menlo,'DejaVu Sans Mono',consolas,'Courier New',monospace\"><span style=\"font-weight: bold\"> Non-trainable params: </span><span style=\"color: #00af00; text-decoration-color: #00af00\">0</span> (0.00 B)\n",
              "</pre>\n"
            ]
          },
          "metadata": {}
        }
      ]
    },
    {
      "cell_type": "code",
      "metadata": {
        "id": "mG022j8gA0JJ"
      },
      "source": [
        "# define perdida y optimizador\n",
        "model.compile(optimizer='adam', loss='sparse_categorical_crossentropy', metrics=['accuracy']) #sparse_categorical_crossentropy espera que la clase Y sean enteros (no codificaciones one-hot )\n"
      ],
      "execution_count": null,
      "outputs": []
    },
    {
      "cell_type": "code",
      "metadata": {
        "colab": {
          "base_uri": "https://localhost:8080/"
        },
        "id": "VIlCAGMEA3xK",
        "outputId": "8cd9c167-2ea3-4d88-8ebb-d35aeb03253b"
      },
      "source": [
        "# ajusta el modelo (aprendizaje)\n",
        "model.fit(x_train, y_train, epochs=10, batch_size=128, verbose=0)\n"
      ],
      "execution_count": null,
      "outputs": [
        {
          "output_type": "execute_result",
          "data": {
            "text/plain": [
              "<keras.src.callbacks.history.History at 0x7e2d40ac6320>"
            ]
          },
          "metadata": {},
          "execution_count": 14
        }
      ]
    },
    {
      "cell_type": "code",
      "metadata": {
        "colab": {
          "base_uri": "https://localhost:8080/"
        },
        "id": "om9vZhPoA6Uk",
        "outputId": "ab7dcfbf-29d9-4b84-91ea-1d01c54aa5ab"
      },
      "source": [
        "# evaluar el modelo\n",
        "loss, acc = model.evaluate(x_test, y_test, verbose=0)\n",
        "print('Accuracy: %.3f' % acc) #mientras más cercano a 1 mejor\n"
      ],
      "execution_count": null,
      "outputs": [
        {
          "output_type": "stream",
          "name": "stdout",
          "text": [
            "Accuracy: 0.987\n"
          ]
        }
      ]
    },
    {
      "cell_type": "code",
      "metadata": {
        "colab": {
          "base_uri": "https://localhost:8080/"
        },
        "id": "olzMwVbZA8am",
        "outputId": "854b5bf4-d887-461e-d38a-418320c0af2a"
      },
      "source": [
        "# Hacer una predicción\n",
        "image = x_test[200]\n",
        "yhat = model.predict(np.asarray([image]))\n",
        "print('Predicho: clase=%d' % np.argmax(yhat))"
      ],
      "execution_count": null,
      "outputs": [
        {
          "output_type": "stream",
          "name": "stdout",
          "text": [
            "\u001b[1m1/1\u001b[0m \u001b[32m━━━━━━━━━━━━━━━━━━━━\u001b[0m\u001b[37m\u001b[0m \u001b[1m0s\u001b[0m 431ms/step\n",
            "Predicho: clase=3\n"
          ]
        }
      ]
    },
    {
      "cell_type": "code",
      "source": [
        "yhat"
      ],
      "metadata": {
        "colab": {
          "base_uri": "https://localhost:8080/"
        },
        "id": "qmPQgSUi-Lqt",
        "outputId": "6403cf74-c1cd-414a-eb47-a243b00efed9"
      },
      "execution_count": null,
      "outputs": [
        {
          "output_type": "execute_result",
          "data": {
            "text/plain": [
              "array([[1.1253918e-09, 4.9377874e-10, 1.5031523e-08, 9.9999857e-01,\n",
              "        5.2831535e-14, 1.4198482e-06, 2.1383718e-11, 2.6443557e-12,\n",
              "        2.2452409e-09, 1.7696369e-08]], dtype=float32)"
            ]
          },
          "metadata": {},
          "execution_count": 17
        }
      ]
    },
    {
      "cell_type": "code",
      "metadata": {
        "colab": {
          "base_uri": "https://localhost:8080/"
        },
        "id": "zeWYd4huCmix",
        "outputId": "ac3f42b2-0a61-4e31-ce6e-499ac35554c5"
      },
      "source": [
        "y_test[200]"
      ],
      "execution_count": null,
      "outputs": [
        {
          "output_type": "execute_result",
          "data": {
            "text/plain": [
              "3"
            ]
          },
          "metadata": {},
          "execution_count": 18
        }
      ]
    },
    {
      "cell_type": "markdown",
      "metadata": {
        "id": "NpJVe0X4EXkt"
      },
      "source": [
        "**3. Recurrent Neural Network Models (RNNs, Redes Neuronales Recurrentes)**\n",
        "\n",
        "\n",
        "- RNNs diseñadas para operar sobre secuencias de datos.\n",
        "\n",
        "- El tipo más popular es la Long Short-Term Memory network (LSTM). LSTMs aceptan una secuencia de datos de entrada y hacen una predicción, por ejemplo asignar una clase o predecir un valor numérico (el próximo valor o valores de una secuencia).\n",
        "\n"
      ]
    },
    {
      "cell_type": "markdown",
      "metadata": {
        "id": "UD1UODcxErBa"
      },
      "source": [
        "Se usará un dataset de ventas de carros para demostrar una LSTM RNN para forecasting de series de tiempo univariada.\n",
        "\n",
        "Este problema implica predecir el número de carros vendidos por mes.\n",
        "\n"
      ]
    },
    {
      "cell_type": "markdown",
      "metadata": {
        "id": "WWiVjUHTEyR2"
      },
      "source": [
        "Se utilizará una ventana de los últimos cinco meses de datos para predecir los datos del mes actual."
      ]
    },
    {
      "cell_type": "markdown",
      "metadata": {
        "id": "tfYLsLxAE6ry"
      },
      "source": [
        "Por ejemplo, si la secuencia es:"
      ]
    },
    {
      "cell_type": "code",
      "metadata": {
        "id": "WWq7p6C-EYsH"
      },
      "source": [
        "1, 2, 3, 4, 5, 6, 7, 8, 9, 10"
      ],
      "execution_count": null,
      "outputs": []
    },
    {
      "cell_type": "markdown",
      "metadata": {
        "id": "lafxo0U0FCx2"
      },
      "source": [
        "Entonces la muestra para entrenar el modelo sería:\n",
        "\n"
      ]
    },
    {
      "cell_type": "code",
      "metadata": {
        "id": "lquGA3noFGr4"
      },
      "source": [
        "\n",
        "Input \t\t\t\tOutput\n",
        "1, 2, 3, 4, 5 \t\t6\n",
        "2, 3, 4, 5, 6 \t\t7\n",
        "3, 4, 5, 6, 7 \t\t8"
      ],
      "execution_count": null,
      "outputs": []
    },
    {
      "cell_type": "markdown",
      "metadata": {
        "id": "U68BTSt9FTEn"
      },
      "source": [
        "LSTMs esperan que cada ejemplo de entrenamiento tenga dos dimensiones; la primera es el número de time steps (pasos, en este caso 5) y la segunda es el número de observaciones para cada paso de tiempo (en este caso 1)."
      ]
    },
    {
      "cell_type": "code",
      "metadata": {
        "id": "jR6Ct4sDFayE"
      },
      "source": [
        "from tensorflow.keras import Sequential\n",
        "from tensorflow.keras.layers import Dense\n",
        "from tensorflow.keras.layers import LSTM"
      ],
      "execution_count": null,
      "outputs": []
    },
    {
      "cell_type": "code",
      "metadata": {
        "id": "YI8RVdkOFiUy"
      },
      "source": [
        "# divide una secuencia univariada en muestras\n",
        "def split_sequence(sequence, n_steps):\n",
        "\tX, y = list(), list()\n",
        "\tfor i in range(len(sequence)):\n",
        "\t\t# find the end of this pattern\n",
        "\t\tend_ix = i + n_steps\n",
        "\t\t# check if we are beyond the sequence\n",
        "\t\tif end_ix > len(sequence)-1:\n",
        "\t\t\tbreak\n",
        "\t\t# gather input and outpt parts of the pattern\n",
        "\t\tseq_x, seq_y = sequence[i:end_ix], sequence[end_ix]\n",
        "\t\tX.append(seq_x)\n",
        "\t\ty.append(seq_y)\n",
        "\treturn np.asarray(X), np.asarray(y)\n"
      ],
      "execution_count": null,
      "outputs": []
    },
    {
      "cell_type": "code",
      "metadata": {
        "colab": {
          "base_uri": "https://localhost:8080/",
          "height": 237
        },
        "id": "9sqxdQ7VFs6p",
        "outputId": "ec8bc404-d5f8-4bdd-f7c3-e7f4ae493172"
      },
      "source": [
        "# carga el dataset\n",
        "url = 'https://raw.githubusercontent.com/jbrownlee/Datasets/master/monthly-car-sales.csv'\n",
        "df = pd.read_csv(url, header=0, index_col=0)\n",
        "df.squeeze('columns')\n",
        "df.head()"
      ],
      "execution_count": null,
      "outputs": [
        {
          "output_type": "execute_result",
          "data": {
            "text/plain": [
              "         Sales\n",
              "Month         \n",
              "1960-01   6550\n",
              "1960-02   8728\n",
              "1960-03  12026\n",
              "1960-04  14395\n",
              "1960-05  14587"
            ],
            "text/html": [
              "\n",
              "  <div id=\"df-dc554b67-8b58-4046-897c-a2d437d06b4c\" class=\"colab-df-container\">\n",
              "    <div>\n",
              "<style scoped>\n",
              "    .dataframe tbody tr th:only-of-type {\n",
              "        vertical-align: middle;\n",
              "    }\n",
              "\n",
              "    .dataframe tbody tr th {\n",
              "        vertical-align: top;\n",
              "    }\n",
              "\n",
              "    .dataframe thead th {\n",
              "        text-align: right;\n",
              "    }\n",
              "</style>\n",
              "<table border=\"1\" class=\"dataframe\">\n",
              "  <thead>\n",
              "    <tr style=\"text-align: right;\">\n",
              "      <th></th>\n",
              "      <th>Sales</th>\n",
              "    </tr>\n",
              "    <tr>\n",
              "      <th>Month</th>\n",
              "      <th></th>\n",
              "    </tr>\n",
              "  </thead>\n",
              "  <tbody>\n",
              "    <tr>\n",
              "      <th>1960-01</th>\n",
              "      <td>6550</td>\n",
              "    </tr>\n",
              "    <tr>\n",
              "      <th>1960-02</th>\n",
              "      <td>8728</td>\n",
              "    </tr>\n",
              "    <tr>\n",
              "      <th>1960-03</th>\n",
              "      <td>12026</td>\n",
              "    </tr>\n",
              "    <tr>\n",
              "      <th>1960-04</th>\n",
              "      <td>14395</td>\n",
              "    </tr>\n",
              "    <tr>\n",
              "      <th>1960-05</th>\n",
              "      <td>14587</td>\n",
              "    </tr>\n",
              "  </tbody>\n",
              "</table>\n",
              "</div>\n",
              "    <div class=\"colab-df-buttons\">\n",
              "\n",
              "  <div class=\"colab-df-container\">\n",
              "    <button class=\"colab-df-convert\" onclick=\"convertToInteractive('df-dc554b67-8b58-4046-897c-a2d437d06b4c')\"\n",
              "            title=\"Convert this dataframe to an interactive table.\"\n",
              "            style=\"display:none;\">\n",
              "\n",
              "  <svg xmlns=\"http://www.w3.org/2000/svg\" height=\"24px\" viewBox=\"0 -960 960 960\">\n",
              "    <path d=\"M120-120v-720h720v720H120Zm60-500h600v-160H180v160Zm220 220h160v-160H400v160Zm0 220h160v-160H400v160ZM180-400h160v-160H180v160Zm440 0h160v-160H620v160ZM180-180h160v-160H180v160Zm440 0h160v-160H620v160Z\"/>\n",
              "  </svg>\n",
              "    </button>\n",
              "\n",
              "  <style>\n",
              "    .colab-df-container {\n",
              "      display:flex;\n",
              "      gap: 12px;\n",
              "    }\n",
              "\n",
              "    .colab-df-convert {\n",
              "      background-color: #E8F0FE;\n",
              "      border: none;\n",
              "      border-radius: 50%;\n",
              "      cursor: pointer;\n",
              "      display: none;\n",
              "      fill: #1967D2;\n",
              "      height: 32px;\n",
              "      padding: 0 0 0 0;\n",
              "      width: 32px;\n",
              "    }\n",
              "\n",
              "    .colab-df-convert:hover {\n",
              "      background-color: #E2EBFA;\n",
              "      box-shadow: 0px 1px 2px rgba(60, 64, 67, 0.3), 0px 1px 3px 1px rgba(60, 64, 67, 0.15);\n",
              "      fill: #174EA6;\n",
              "    }\n",
              "\n",
              "    .colab-df-buttons div {\n",
              "      margin-bottom: 4px;\n",
              "    }\n",
              "\n",
              "    [theme=dark] .colab-df-convert {\n",
              "      background-color: #3B4455;\n",
              "      fill: #D2E3FC;\n",
              "    }\n",
              "\n",
              "    [theme=dark] .colab-df-convert:hover {\n",
              "      background-color: #434B5C;\n",
              "      box-shadow: 0px 1px 3px 1px rgba(0, 0, 0, 0.15);\n",
              "      filter: drop-shadow(0px 1px 2px rgba(0, 0, 0, 0.3));\n",
              "      fill: #FFFFFF;\n",
              "    }\n",
              "  </style>\n",
              "\n",
              "    <script>\n",
              "      const buttonEl =\n",
              "        document.querySelector('#df-dc554b67-8b58-4046-897c-a2d437d06b4c button.colab-df-convert');\n",
              "      buttonEl.style.display =\n",
              "        google.colab.kernel.accessAllowed ? 'block' : 'none';\n",
              "\n",
              "      async function convertToInteractive(key) {\n",
              "        const element = document.querySelector('#df-dc554b67-8b58-4046-897c-a2d437d06b4c');\n",
              "        const dataTable =\n",
              "          await google.colab.kernel.invokeFunction('convertToInteractive',\n",
              "                                                    [key], {});\n",
              "        if (!dataTable) return;\n",
              "\n",
              "        const docLinkHtml = 'Like what you see? Visit the ' +\n",
              "          '<a target=\"_blank\" href=https://colab.research.google.com/notebooks/data_table.ipynb>data table notebook</a>'\n",
              "          + ' to learn more about interactive tables.';\n",
              "        element.innerHTML = '';\n",
              "        dataTable['output_type'] = 'display_data';\n",
              "        await google.colab.output.renderOutput(dataTable, element);\n",
              "        const docLink = document.createElement('div');\n",
              "        docLink.innerHTML = docLinkHtml;\n",
              "        element.appendChild(docLink);\n",
              "      }\n",
              "    </script>\n",
              "  </div>\n",
              "\n",
              "\n",
              "<div id=\"df-3fe6eee5-be5e-4f9c-aa4b-91fffe84e9ac\">\n",
              "  <button class=\"colab-df-quickchart\" onclick=\"quickchart('df-3fe6eee5-be5e-4f9c-aa4b-91fffe84e9ac')\"\n",
              "            title=\"Suggest charts\"\n",
              "            style=\"display:none;\">\n",
              "\n",
              "<svg xmlns=\"http://www.w3.org/2000/svg\" height=\"24px\"viewBox=\"0 0 24 24\"\n",
              "     width=\"24px\">\n",
              "    <g>\n",
              "        <path d=\"M19 3H5c-1.1 0-2 .9-2 2v14c0 1.1.9 2 2 2h14c1.1 0 2-.9 2-2V5c0-1.1-.9-2-2-2zM9 17H7v-7h2v7zm4 0h-2V7h2v10zm4 0h-2v-4h2v4z\"/>\n",
              "    </g>\n",
              "</svg>\n",
              "  </button>\n",
              "\n",
              "<style>\n",
              "  .colab-df-quickchart {\n",
              "      --bg-color: #E8F0FE;\n",
              "      --fill-color: #1967D2;\n",
              "      --hover-bg-color: #E2EBFA;\n",
              "      --hover-fill-color: #174EA6;\n",
              "      --disabled-fill-color: #AAA;\n",
              "      --disabled-bg-color: #DDD;\n",
              "  }\n",
              "\n",
              "  [theme=dark] .colab-df-quickchart {\n",
              "      --bg-color: #3B4455;\n",
              "      --fill-color: #D2E3FC;\n",
              "      --hover-bg-color: #434B5C;\n",
              "      --hover-fill-color: #FFFFFF;\n",
              "      --disabled-bg-color: #3B4455;\n",
              "      --disabled-fill-color: #666;\n",
              "  }\n",
              "\n",
              "  .colab-df-quickchart {\n",
              "    background-color: var(--bg-color);\n",
              "    border: none;\n",
              "    border-radius: 50%;\n",
              "    cursor: pointer;\n",
              "    display: none;\n",
              "    fill: var(--fill-color);\n",
              "    height: 32px;\n",
              "    padding: 0;\n",
              "    width: 32px;\n",
              "  }\n",
              "\n",
              "  .colab-df-quickchart:hover {\n",
              "    background-color: var(--hover-bg-color);\n",
              "    box-shadow: 0 1px 2px rgba(60, 64, 67, 0.3), 0 1px 3px 1px rgba(60, 64, 67, 0.15);\n",
              "    fill: var(--button-hover-fill-color);\n",
              "  }\n",
              "\n",
              "  .colab-df-quickchart-complete:disabled,\n",
              "  .colab-df-quickchart-complete:disabled:hover {\n",
              "    background-color: var(--disabled-bg-color);\n",
              "    fill: var(--disabled-fill-color);\n",
              "    box-shadow: none;\n",
              "  }\n",
              "\n",
              "  .colab-df-spinner {\n",
              "    border: 2px solid var(--fill-color);\n",
              "    border-color: transparent;\n",
              "    border-bottom-color: var(--fill-color);\n",
              "    animation:\n",
              "      spin 1s steps(1) infinite;\n",
              "  }\n",
              "\n",
              "  @keyframes spin {\n",
              "    0% {\n",
              "      border-color: transparent;\n",
              "      border-bottom-color: var(--fill-color);\n",
              "      border-left-color: var(--fill-color);\n",
              "    }\n",
              "    20% {\n",
              "      border-color: transparent;\n",
              "      border-left-color: var(--fill-color);\n",
              "      border-top-color: var(--fill-color);\n",
              "    }\n",
              "    30% {\n",
              "      border-color: transparent;\n",
              "      border-left-color: var(--fill-color);\n",
              "      border-top-color: var(--fill-color);\n",
              "      border-right-color: var(--fill-color);\n",
              "    }\n",
              "    40% {\n",
              "      border-color: transparent;\n",
              "      border-right-color: var(--fill-color);\n",
              "      border-top-color: var(--fill-color);\n",
              "    }\n",
              "    60% {\n",
              "      border-color: transparent;\n",
              "      border-right-color: var(--fill-color);\n",
              "    }\n",
              "    80% {\n",
              "      border-color: transparent;\n",
              "      border-right-color: var(--fill-color);\n",
              "      border-bottom-color: var(--fill-color);\n",
              "    }\n",
              "    90% {\n",
              "      border-color: transparent;\n",
              "      border-bottom-color: var(--fill-color);\n",
              "    }\n",
              "  }\n",
              "</style>\n",
              "\n",
              "  <script>\n",
              "    async function quickchart(key) {\n",
              "      const quickchartButtonEl =\n",
              "        document.querySelector('#' + key + ' button');\n",
              "      quickchartButtonEl.disabled = true;  // To prevent multiple clicks.\n",
              "      quickchartButtonEl.classList.add('colab-df-spinner');\n",
              "      try {\n",
              "        const charts = await google.colab.kernel.invokeFunction(\n",
              "            'suggestCharts', [key], {});\n",
              "      } catch (error) {\n",
              "        console.error('Error during call to suggestCharts:', error);\n",
              "      }\n",
              "      quickchartButtonEl.classList.remove('colab-df-spinner');\n",
              "      quickchartButtonEl.classList.add('colab-df-quickchart-complete');\n",
              "    }\n",
              "    (() => {\n",
              "      let quickchartButtonEl =\n",
              "        document.querySelector('#df-3fe6eee5-be5e-4f9c-aa4b-91fffe84e9ac button');\n",
              "      quickchartButtonEl.style.display =\n",
              "        google.colab.kernel.accessAllowed ? 'block' : 'none';\n",
              "    })();\n",
              "  </script>\n",
              "</div>\n",
              "\n",
              "    </div>\n",
              "  </div>\n"
            ],
            "application/vnd.google.colaboratory.intrinsic+json": {
              "type": "dataframe",
              "variable_name": "df",
              "summary": "{\n  \"name\": \"df\",\n  \"rows\": 108,\n  \"fields\": [\n    {\n      \"column\": \"Month\",\n      \"properties\": {\n        \"dtype\": \"object\",\n        \"num_unique_values\": 108,\n        \"samples\": [\n          \"1966-06\",\n          \"1960-11\",\n          \"1960-05\"\n        ],\n        \"semantic_type\": \"\",\n        \"description\": \"\"\n      }\n    },\n    {\n      \"column\": \"Sales\",\n      \"properties\": {\n        \"dtype\": \"number\",\n        \"std\": 4525,\n        \"min\": 5568,\n        \"max\": 26099,\n        \"num_unique_values\": 108,\n        \"samples\": [\n          19933,\n          9364,\n          14587\n        ],\n        \"semantic_type\": \"\",\n        \"description\": \"\"\n      }\n    }\n  ]\n}"
            }
          },
          "metadata": {},
          "execution_count": 8
        }
      ]
    },
    {
      "cell_type": "code",
      "metadata": {
        "id": "ogjTuGu3F0jQ"
      },
      "source": [
        "# retorna los valores\n",
        "values = df.values.astype('float32')\n",
        "# specifica el tamaÑo de la ventana (window)\n",
        "n_steps = 5\n",
        "# divide en muestras\n",
        "X, y = split_sequence(values, n_steps)"
      ],
      "execution_count": null,
      "outputs": []
    },
    {
      "cell_type": "code",
      "metadata": {
        "colab": {
          "base_uri": "https://localhost:8080/"
        },
        "id": "XK3CTP6vQ2Y-",
        "outputId": "24dfe016-0758-4528-8489-e005580161e4"
      },
      "source": [
        "X[:4]"
      ],
      "execution_count": null,
      "outputs": [
        {
          "output_type": "execute_result",
          "data": {
            "text/plain": [
              "array([[[ 6550.],\n",
              "        [ 8728.],\n",
              "        [12026.],\n",
              "        [14395.],\n",
              "        [14587.]],\n",
              "\n",
              "       [[ 8728.],\n",
              "        [12026.],\n",
              "        [14395.],\n",
              "        [14587.],\n",
              "        [13791.]],\n",
              "\n",
              "       [[12026.],\n",
              "        [14395.],\n",
              "        [14587.],\n",
              "        [13791.],\n",
              "        [ 9498.]],\n",
              "\n",
              "       [[14395.],\n",
              "        [14587.],\n",
              "        [13791.],\n",
              "        [ 9498.],\n",
              "        [ 8251.]]], dtype=float32)"
            ]
          },
          "metadata": {},
          "execution_count": 10
        }
      ]
    },
    {
      "cell_type": "code",
      "source": [
        "y[:4]"
      ],
      "metadata": {
        "colab": {
          "base_uri": "https://localhost:8080/"
        },
        "id": "Y8tvBPNJQu5A",
        "outputId": "cf1a53cf-cc7a-451a-8ed4-173a4430572f"
      },
      "execution_count": null,
      "outputs": [
        {
          "output_type": "execute_result",
          "data": {
            "text/plain": [
              "array([[13791.],\n",
              "       [ 9498.],\n",
              "       [ 8251.],\n",
              "       [ 7049.]], dtype=float32)"
            ]
          },
          "metadata": {},
          "execution_count": 11
        }
      ]
    },
    {
      "cell_type": "code",
      "metadata": {
        "id": "fGPx7FvJGMdI"
      },
      "source": [
        "# se hace el reshape a [samples, timesteps, features]\n",
        "X = X.reshape((X.shape[0], X.shape[1], 1))"
      ],
      "execution_count": null,
      "outputs": []
    },
    {
      "cell_type": "code",
      "metadata": {
        "colab": {
          "base_uri": "https://localhost:8080/"
        },
        "id": "2OAzuDOwQ9kA",
        "outputId": "f3aba989-eccf-4b0d-e023-21b10b3e8a20"
      },
      "source": [
        "X.shape"
      ],
      "execution_count": null,
      "outputs": [
        {
          "output_type": "execute_result",
          "data": {
            "text/plain": [
              "(103, 5, 1)"
            ]
          },
          "metadata": {},
          "execution_count": 14
        }
      ]
    },
    {
      "cell_type": "code",
      "metadata": {
        "colab": {
          "base_uri": "https://localhost:8080/"
        },
        "id": "tPI9LGaXGQfi",
        "outputId": "a016e0a0-753a-4929-b770-fffdf7d8a383"
      },
      "source": [
        "# Divide en entrenamiento y prueba (no puede ser aleatoria en series de tiempo)\n",
        "n_test = 12\n",
        "X_train, X_test, y_train, y_test = X[:-n_test], X[-n_test:], y[:-n_test], y[-n_test:]\n",
        "print(X_train.shape, X_test.shape, y_train.shape, y_test.shape)"
      ],
      "execution_count": null,
      "outputs": [
        {
          "output_type": "stream",
          "name": "stdout",
          "text": [
            "(91, 5, 1) (12, 5, 1) (91, 1) (12, 1)\n"
          ]
        }
      ]
    },
    {
      "cell_type": "code",
      "metadata": {
        "id": "dRPORQCcRCB3",
        "colab": {
          "base_uri": "https://localhost:8080/"
        },
        "outputId": "af34664d-c183-4b25-ebfc-42f56addf290"
      },
      "source": [
        "# define el modelo # la arquitectura es many-to-one\n",
        "model = Sequential()\n",
        "model.add(LSTM(100, activation='relu', kernel_initializer='he_normal', input_shape=(n_steps,1))) # cada unidad de LSTM tendrá 100 unidades\n",
        "model.add(Dense(50, activation='relu', kernel_initializer='he_normal')) #la última unidad LSTM (la quinta para este ejemplo) se conectará con una MLP completamente conectada\n",
        "model.add(Dense(50, activation='relu', kernel_initializer='he_normal'))\n",
        "model.add(Dense(1))"
      ],
      "execution_count": null,
      "outputs": [
        {
          "output_type": "stream",
          "name": "stderr",
          "text": [
            "/usr/local/lib/python3.10/dist-packages/keras/src/layers/rnn/rnn.py:204: UserWarning: Do not pass an `input_shape`/`input_dim` argument to a layer. When using Sequential models, prefer using an `Input(shape)` object as the first layer in the model instead.\n",
            "  super().__init__(**kwargs)\n"
          ]
        }
      ]
    },
    {
      "cell_type": "code",
      "metadata": {
        "id": "f4rxzlAeRFLe"
      },
      "source": [
        "# compila el modelo\n",
        "model.compile(optimizer='adam', loss='mse', metrics=['mae']) # se usan funciones de costo y métricas de regresión"
      ],
      "execution_count": null,
      "outputs": []
    },
    {
      "cell_type": "code",
      "metadata": {
        "colab": {
          "base_uri": "https://localhost:8080/",
          "height": 257
        },
        "id": "sqa1FWGKRINH",
        "outputId": "757fb2a2-8f21-4ae1-c070-1ec9616946fc"
      },
      "source": [
        "model.summary()"
      ],
      "execution_count": null,
      "outputs": [
        {
          "output_type": "display_data",
          "data": {
            "text/plain": [
              "\u001b[1mModel: \"sequential\"\u001b[0m\n"
            ],
            "text/html": [
              "<pre style=\"white-space:pre;overflow-x:auto;line-height:normal;font-family:Menlo,'DejaVu Sans Mono',consolas,'Courier New',monospace\"><span style=\"font-weight: bold\">Model: \"sequential\"</span>\n",
              "</pre>\n"
            ]
          },
          "metadata": {}
        },
        {
          "output_type": "display_data",
          "data": {
            "text/plain": [
              "┏━━━━━━━━━━━━━━━━━━━━━━━━━━━━━━━━━━━━━━┳━━━━━━━━━━━━━━━━━━━━━━━━━━━━━┳━━━━━━━━━━━━━━━━━┓\n",
              "┃\u001b[1m \u001b[0m\u001b[1mLayer (type)                        \u001b[0m\u001b[1m \u001b[0m┃\u001b[1m \u001b[0m\u001b[1mOutput Shape               \u001b[0m\u001b[1m \u001b[0m┃\u001b[1m \u001b[0m\u001b[1m        Param #\u001b[0m\u001b[1m \u001b[0m┃\n",
              "┡━━━━━━━━━━━━━━━━━━━━━━━━━━━━━━━━━━━━━━╇━━━━━━━━━━━━━━━━━━━━━━━━━━━━━╇━━━━━━━━━━━━━━━━━┩\n",
              "│ lstm (\u001b[38;5;33mLSTM\u001b[0m)                          │ (\u001b[38;5;45mNone\u001b[0m, \u001b[38;5;34m100\u001b[0m)                 │          \u001b[38;5;34m40,800\u001b[0m │\n",
              "├──────────────────────────────────────┼─────────────────────────────┼─────────────────┤\n",
              "│ dense (\u001b[38;5;33mDense\u001b[0m)                        │ (\u001b[38;5;45mNone\u001b[0m, \u001b[38;5;34m50\u001b[0m)                  │           \u001b[38;5;34m5,050\u001b[0m │\n",
              "├──────────────────────────────────────┼─────────────────────────────┼─────────────────┤\n",
              "│ dense_1 (\u001b[38;5;33mDense\u001b[0m)                      │ (\u001b[38;5;45mNone\u001b[0m, \u001b[38;5;34m50\u001b[0m)                  │           \u001b[38;5;34m2,550\u001b[0m │\n",
              "├──────────────────────────────────────┼─────────────────────────────┼─────────────────┤\n",
              "│ dense_2 (\u001b[38;5;33mDense\u001b[0m)                      │ (\u001b[38;5;45mNone\u001b[0m, \u001b[38;5;34m1\u001b[0m)                   │              \u001b[38;5;34m51\u001b[0m │\n",
              "└──────────────────────────────────────┴─────────────────────────────┴─────────────────┘\n"
            ],
            "text/html": [
              "<pre style=\"white-space:pre;overflow-x:auto;line-height:normal;font-family:Menlo,'DejaVu Sans Mono',consolas,'Courier New',monospace\">┏━━━━━━━━━━━━━━━━━━━━━━━━━━━━━━━━━━━━━━┳━━━━━━━━━━━━━━━━━━━━━━━━━━━━━┳━━━━━━━━━━━━━━━━━┓\n",
              "┃<span style=\"font-weight: bold\"> Layer (type)                         </span>┃<span style=\"font-weight: bold\"> Output Shape                </span>┃<span style=\"font-weight: bold\">         Param # </span>┃\n",
              "┡━━━━━━━━━━━━━━━━━━━━━━━━━━━━━━━━━━━━━━╇━━━━━━━━━━━━━━━━━━━━━━━━━━━━━╇━━━━━━━━━━━━━━━━━┩\n",
              "│ lstm (<span style=\"color: #0087ff; text-decoration-color: #0087ff\">LSTM</span>)                          │ (<span style=\"color: #00d7ff; text-decoration-color: #00d7ff\">None</span>, <span style=\"color: #00af00; text-decoration-color: #00af00\">100</span>)                 │          <span style=\"color: #00af00; text-decoration-color: #00af00\">40,800</span> │\n",
              "├──────────────────────────────────────┼─────────────────────────────┼─────────────────┤\n",
              "│ dense (<span style=\"color: #0087ff; text-decoration-color: #0087ff\">Dense</span>)                        │ (<span style=\"color: #00d7ff; text-decoration-color: #00d7ff\">None</span>, <span style=\"color: #00af00; text-decoration-color: #00af00\">50</span>)                  │           <span style=\"color: #00af00; text-decoration-color: #00af00\">5,050</span> │\n",
              "├──────────────────────────────────────┼─────────────────────────────┼─────────────────┤\n",
              "│ dense_1 (<span style=\"color: #0087ff; text-decoration-color: #0087ff\">Dense</span>)                      │ (<span style=\"color: #00d7ff; text-decoration-color: #00d7ff\">None</span>, <span style=\"color: #00af00; text-decoration-color: #00af00\">50</span>)                  │           <span style=\"color: #00af00; text-decoration-color: #00af00\">2,550</span> │\n",
              "├──────────────────────────────────────┼─────────────────────────────┼─────────────────┤\n",
              "│ dense_2 (<span style=\"color: #0087ff; text-decoration-color: #0087ff\">Dense</span>)                      │ (<span style=\"color: #00d7ff; text-decoration-color: #00d7ff\">None</span>, <span style=\"color: #00af00; text-decoration-color: #00af00\">1</span>)                   │              <span style=\"color: #00af00; text-decoration-color: #00af00\">51</span> │\n",
              "└──────────────────────────────────────┴─────────────────────────────┴─────────────────┘\n",
              "</pre>\n"
            ]
          },
          "metadata": {}
        },
        {
          "output_type": "display_data",
          "data": {
            "text/plain": [
              "\u001b[1m Total params: \u001b[0m\u001b[38;5;34m48,451\u001b[0m (189.26 KB)\n"
            ],
            "text/html": [
              "<pre style=\"white-space:pre;overflow-x:auto;line-height:normal;font-family:Menlo,'DejaVu Sans Mono',consolas,'Courier New',monospace\"><span style=\"font-weight: bold\"> Total params: </span><span style=\"color: #00af00; text-decoration-color: #00af00\">48,451</span> (189.26 KB)\n",
              "</pre>\n"
            ]
          },
          "metadata": {}
        },
        {
          "output_type": "display_data",
          "data": {
            "text/plain": [
              "\u001b[1m Trainable params: \u001b[0m\u001b[38;5;34m48,451\u001b[0m (189.26 KB)\n"
            ],
            "text/html": [
              "<pre style=\"white-space:pre;overflow-x:auto;line-height:normal;font-family:Menlo,'DejaVu Sans Mono',consolas,'Courier New',monospace\"><span style=\"font-weight: bold\"> Trainable params: </span><span style=\"color: #00af00; text-decoration-color: #00af00\">48,451</span> (189.26 KB)\n",
              "</pre>\n"
            ]
          },
          "metadata": {}
        },
        {
          "output_type": "display_data",
          "data": {
            "text/plain": [
              "\u001b[1m Non-trainable params: \u001b[0m\u001b[38;5;34m0\u001b[0m (0.00 B)\n"
            ],
            "text/html": [
              "<pre style=\"white-space:pre;overflow-x:auto;line-height:normal;font-family:Menlo,'DejaVu Sans Mono',consolas,'Courier New',monospace\"><span style=\"font-weight: bold\"> Non-trainable params: </span><span style=\"color: #00af00; text-decoration-color: #00af00\">0</span> (0.00 B)\n",
              "</pre>\n"
            ]
          },
          "metadata": {}
        }
      ]
    },
    {
      "cell_type": "code",
      "metadata": {
        "colab": {
          "base_uri": "https://localhost:8080/",
          "height": 1000
        },
        "id": "t0dfywNNTwQz",
        "outputId": "844026a1-c201-4dea-b1b2-acd48639fe3a"
      },
      "source": [
        "plot_model(model, 'model.png', show_shapes=True)"
      ],
      "execution_count": null,
      "outputs": [
        {
          "output_type": "execute_result",
          "data": {
            "image/png": "[encoded data removed]",
            "text/plain": [
              "<IPython.core.display.Image object>"
            ]
          },
          "metadata": {},
          "execution_count": 54
        }
      ]
    },
    {
      "cell_type": "code",
      "metadata": {
        "colab": {
          "base_uri": "https://localhost:8080/"
        },
        "id": "9-qly38vRHos",
        "outputId": "7f750322-3691-42f1-cc1f-d04e662e9a40"
      },
      "source": [
        "# ajusta el modelo (aprendizaje)\n",
        "model.fit(X_train, y_train, epochs=100, batch_size=32, verbose=2, validation_data=(X_test, y_test))\n"
      ],
      "execution_count": null,
      "outputs": [
        {
          "output_type": "stream",
          "name": "stdout",
          "text": [
            "Epoch 1/100\n",
            "3/3 - 5s - 2s/step - loss: 471277824.0000 - mae: 19360.6113 - val_loss: 143182560.0000 - val_mae: 11319.8799\n",
            "Epoch 2/100\n",
            "3/3 - 2s - 572ms/step - loss: 63116168.0000 - mae: 6358.7446 - val_loss: 21136450.0000 - val_mae: 3926.1855\n",
            "Epoch 3/100\n",
            "3/3 - 0s - 17ms/step - loss: 45785796.0000 - mae: 5417.2114 - val_loss: 118960184.0000 - val_mae: 9893.7305\n",
            "Epoch 4/100\n",
            "3/3 - 0s - 18ms/step - loss: 95378456.0000 - mae: 8640.7021 - val_loss: 123649368.0000 - val_mae: 10022.2451\n",
            "Epoch 5/100\n",
            "3/3 - 0s - 18ms/step - loss: 64472368.0000 - mae: 6888.3198 - val_loss: 47952236.0000 - val_mae: 6023.4009\n",
            "Epoch 6/100\n",
            "3/3 - 0s - 17ms/step - loss: 19068508.0000 - mae: 3685.4766 - val_loss: 18224338.0000 - val_mae: 3362.4504\n",
            "Epoch 7/100\n",
            "3/3 - 0s - 16ms/step - loss: 14587534.0000 - mae: 2970.9343 - val_loss: 34426888.0000 - val_mae: 4635.8765\n",
            "Epoch 8/100\n",
            "3/3 - 0s - 14ms/step - loss: 28103198.0000 - mae: 4357.3384 - val_loss: 47046400.0000 - val_mae: 5821.3862\n",
            "Epoch 9/100\n",
            "3/3 - 0s - 18ms/step - loss: 30085862.0000 - mae: 4621.9126 - val_loss: 32804594.0000 - val_mae: 4450.4653\n",
            "Epoch 10/100\n",
            "3/3 - 0s - 18ms/step - loss: 19636672.0000 - mae: 3526.1824 - val_loss: 20842842.0000 - val_mae: 3340.8386\n",
            "Epoch 11/100\n",
            "3/3 - 0s - 19ms/step - loss: 10295130.0000 - mae: 2525.5369 - val_loss: 18807400.0000 - val_mae: 3894.5906\n",
            "Epoch 12/100\n",
            "3/3 - 0s - 19ms/step - loss: 13372464.0000 - mae: 2986.0969 - val_loss: 24279520.0000 - val_mae: 4288.4043\n",
            "Epoch 13/100\n",
            "3/3 - 0s - 14ms/step - loss: 15269806.0000 - mae: 3128.9402 - val_loss: 23291768.0000 - val_mae: 4259.7744\n",
            "Epoch 14/100\n",
            "3/3 - 0s - 19ms/step - loss: 12528713.0000 - mae: 2861.0745 - val_loss: 12023171.0000 - val_mae: 3088.2148\n",
            "Epoch 15/100\n",
            "3/3 - 0s - 20ms/step - loss: 10464204.0000 - mae: 2584.2954 - val_loss: 10751340.0000 - val_mae: 2729.8914\n",
            "Epoch 16/100\n",
            "3/3 - 0s - 18ms/step - loss: 11126417.0000 - mae: 2616.0237 - val_loss: 14297941.0000 - val_mae: 2965.7568\n",
            "Epoch 17/100\n",
            "3/3 - 0s - 14ms/step - loss: 11793328.0000 - mae: 2729.9780 - val_loss: 15145973.0000 - val_mae: 3056.3621\n",
            "Epoch 18/100\n",
            "3/3 - 0s - 19ms/step - loss: 11225490.0000 - mae: 2692.8997 - val_loss: 13442824.0000 - val_mae: 3130.0144\n",
            "Epoch 19/100\n",
            "3/3 - 0s - 15ms/step - loss: 10040570.0000 - mae: 2590.2009 - val_loss: 13056469.0000 - val_mae: 3257.3252\n",
            "Epoch 20/100\n",
            "3/3 - 0s - 19ms/step - loss: 10172948.0000 - mae: 2607.2278 - val_loss: 13448707.0000 - val_mae: 3401.0720\n",
            "Epoch 21/100\n",
            "3/3 - 0s - 15ms/step - loss: 10312504.0000 - mae: 2634.6196 - val_loss: 13042240.0000 - val_mae: 3272.7024\n",
            "Epoch 22/100\n",
            "3/3 - 0s - 15ms/step - loss: 9733031.0000 - mae: 2556.1228 - val_loss: 12759784.0000 - val_mae: 3050.3555\n",
            "Epoch 23/100\n",
            "3/3 - 0s - 17ms/step - loss: 10029664.0000 - mae: 2584.7029 - val_loss: 13490163.0000 - val_mae: 3043.0352\n",
            "Epoch 24/100\n",
            "3/3 - 0s - 18ms/step - loss: 10009169.0000 - mae: 2573.7874 - val_loss: 12323841.0000 - val_mae: 2881.0593\n",
            "Epoch 25/100\n",
            "3/3 - 0s - 20ms/step - loss: 10377437.0000 - mae: 2613.0564 - val_loss: 12322653.0000 - val_mae: 2829.7903\n",
            "Epoch 26/100\n",
            "3/3 - 0s - 42ms/step - loss: 10636749.0000 - mae: 2611.1748 - val_loss: 12463597.0000 - val_mae: 3003.3914\n",
            "Epoch 27/100\n",
            "3/3 - 0s - 18ms/step - loss: 9998759.0000 - mae: 2574.9856 - val_loss: 12328661.0000 - val_mae: 3008.3953\n",
            "Epoch 28/100\n",
            "3/3 - 0s - 19ms/step - loss: 9796957.0000 - mae: 2606.6553 - val_loss: 12313941.0000 - val_mae: 2998.4475\n",
            "Epoch 29/100\n",
            "3/3 - 0s - 19ms/step - loss: 9918050.0000 - mae: 2632.3489 - val_loss: 12164705.0000 - val_mae: 2919.1777\n",
            "Epoch 30/100\n",
            "3/3 - 0s - 18ms/step - loss: 9729589.0000 - mae: 2569.0337 - val_loss: 12606264.0000 - val_mae: 2966.5862\n",
            "Epoch 31/100\n",
            "3/3 - 0s - 17ms/step - loss: 9574737.0000 - mae: 2568.5525 - val_loss: 12739896.0000 - val_mae: 3049.7871\n",
            "Epoch 32/100\n",
            "3/3 - 0s - 18ms/step - loss: 9478480.0000 - mae: 2518.8784 - val_loss: 11244336.0000 - val_mae: 2811.6641\n",
            "Epoch 33/100\n",
            "3/3 - 0s - 19ms/step - loss: 9767930.0000 - mae: 2471.9263 - val_loss: 11369316.0000 - val_mae: 2754.4758\n",
            "Epoch 34/100\n",
            "3/3 - 0s - 24ms/step - loss: 9099796.0000 - mae: 2414.1201 - val_loss: 12517788.0000 - val_mae: 2866.5286\n",
            "Epoch 35/100\n",
            "3/3 - 0s - 15ms/step - loss: 9153450.0000 - mae: 2420.9331 - val_loss: 15520927.0000 - val_mae: 3196.6321\n",
            "Epoch 36/100\n",
            "3/3 - 0s - 19ms/step - loss: 9175535.0000 - mae: 2465.1697 - val_loss: 16095384.0000 - val_mae: 3415.6638\n",
            "Epoch 37/100\n",
            "3/3 - 0s - 24ms/step - loss: 9304139.0000 - mae: 2488.7988 - val_loss: 15359219.0000 - val_mae: 3538.5476\n",
            "Epoch 38/100\n",
            "3/3 - 0s - 18ms/step - loss: 9219689.0000 - mae: 2491.3794 - val_loss: 13599328.0000 - val_mae: 3156.9309\n",
            "Epoch 39/100\n",
            "3/3 - 0s - 19ms/step - loss: 9055282.0000 - mae: 2431.8677 - val_loss: 12738721.0000 - val_mae: 2788.0227\n",
            "Epoch 40/100\n",
            "3/3 - 0s - 17ms/step - loss: 9821147.0000 - mae: 2525.0295 - val_loss: 11439145.0000 - val_mae: 2661.5779\n",
            "Epoch 41/100\n",
            "3/3 - 0s - 19ms/step - loss: 9657216.0000 - mae: 2498.3613 - val_loss: 11492895.0000 - val_mae: 2699.5964\n",
            "Epoch 42/100\n",
            "3/3 - 0s - 17ms/step - loss: 9596997.0000 - mae: 2449.4922 - val_loss: 11666897.0000 - val_mae: 2832.3359\n",
            "Epoch 43/100\n",
            "3/3 - 0s - 14ms/step - loss: 9576722.0000 - mae: 2456.6814 - val_loss: 11650036.0000 - val_mae: 2806.9700\n",
            "Epoch 44/100\n",
            "3/3 - 0s - 19ms/step - loss: 9202640.0000 - mae: 2392.4915 - val_loss: 14189105.0000 - val_mae: 2961.9912\n",
            "Epoch 45/100\n",
            "3/3 - 0s - 14ms/step - loss: 8332770.0000 - mae: 2294.6462 - val_loss: 13175703.0000 - val_mae: 2940.9031\n",
            "Epoch 46/100\n",
            "3/3 - 0s - 18ms/step - loss: 8464559.0000 - mae: 2304.7217 - val_loss: 12681304.0000 - val_mae: 2931.4277\n",
            "Epoch 47/100\n",
            "3/3 - 0s - 14ms/step - loss: 8135151.0000 - mae: 2275.1848 - val_loss: 13171103.0000 - val_mae: 2918.7952\n",
            "Epoch 48/100\n",
            "3/3 - 0s - 15ms/step - loss: 8461381.0000 - mae: 2260.4202 - val_loss: 12593141.0000 - val_mae: 2646.7849\n",
            "Epoch 49/100\n",
            "3/3 - 0s - 19ms/step - loss: 8229464.5000 - mae: 2201.3420 - val_loss: 12525399.0000 - val_mae: 2708.0303\n",
            "Epoch 50/100\n",
            "3/3 - 0s - 14ms/step - loss: 8398204.0000 - mae: 2259.3313 - val_loss: 12351616.0000 - val_mae: 2883.5061\n",
            "Epoch 51/100\n",
            "3/3 - 0s - 19ms/step - loss: 8613608.0000 - mae: 2329.8933 - val_loss: 12224253.0000 - val_mae: 2927.6582\n",
            "Epoch 52/100\n",
            "3/3 - 0s - 15ms/step - loss: 8633305.0000 - mae: 2341.5837 - val_loss: 12203652.0000 - val_mae: 2940.9297\n",
            "Epoch 53/100\n",
            "3/3 - 0s - 18ms/step - loss: 8815911.0000 - mae: 2340.6877 - val_loss: 12231409.0000 - val_mae: 2938.0371\n",
            "Epoch 54/100\n",
            "3/3 - 0s - 19ms/step - loss: 8763600.0000 - mae: 2328.6780 - val_loss: 12125212.0000 - val_mae: 2892.0847\n",
            "Epoch 55/100\n",
            "3/3 - 0s - 18ms/step - loss: 8751588.0000 - mae: 2329.8684 - val_loss: 11864591.0000 - val_mae: 2933.8167\n",
            "Epoch 56/100\n",
            "3/3 - 0s - 18ms/step - loss: 8651955.0000 - mae: 2317.2637 - val_loss: 12007157.0000 - val_mae: 2957.4521\n",
            "Epoch 57/100\n",
            "3/3 - 0s - 47ms/step - loss: 8527207.0000 - mae: 2294.9006 - val_loss: 12215460.0000 - val_mae: 2893.1111\n",
            "Epoch 58/100\n",
            "3/3 - 0s - 42ms/step - loss: 8541619.0000 - mae: 2281.6792 - val_loss: 12265940.0000 - val_mae: 2879.1934\n",
            "Epoch 59/100\n",
            "3/3 - 0s - 49ms/step - loss: 8472614.0000 - mae: 2277.6218 - val_loss: 12280552.0000 - val_mae: 2945.5134\n",
            "Epoch 60/100\n",
            "3/3 - 0s - 42ms/step - loss: 8493036.0000 - mae: 2284.6680 - val_loss: 12189984.0000 - val_mae: 3016.8770\n",
            "Epoch 61/100\n",
            "3/3 - 0s - 20ms/step - loss: 8394269.0000 - mae: 2278.7341 - val_loss: 12131636.0000 - val_mae: 2916.7188\n",
            "Epoch 62/100\n",
            "3/3 - 0s - 20ms/step - loss: 8371255.5000 - mae: 2269.9424 - val_loss: 11872939.0000 - val_mae: 2874.9287\n",
            "Epoch 63/100\n",
            "3/3 - 0s - 46ms/step - loss: 8275345.0000 - mae: 2261.2375 - val_loss: 11813000.0000 - val_mae: 2824.2117\n",
            "Epoch 64/100\n",
            "3/3 - 0s - 48ms/step - loss: 8292337.0000 - mae: 2257.4346 - val_loss: 11943003.0000 - val_mae: 2805.1057\n",
            "Epoch 65/100\n",
            "3/3 - 0s - 44ms/step - loss: 8170296.5000 - mae: 2240.7034 - val_loss: 11927293.0000 - val_mae: 2913.9651\n",
            "Epoch 66/100\n",
            "3/3 - 0s - 44ms/step - loss: 8189372.0000 - mae: 2252.2104 - val_loss: 12000260.0000 - val_mae: 2992.1438\n",
            "Epoch 67/100\n",
            "3/3 - 0s - 47ms/step - loss: 8292950.5000 - mae: 2270.9761 - val_loss: 11797395.0000 - val_mae: 2922.3867\n",
            "Epoch 68/100\n",
            "3/3 - 0s - 48ms/step - loss: 8108448.5000 - mae: 2239.9578 - val_loss: 11910349.0000 - val_mae: 2767.6758\n",
            "Epoch 69/100\n",
            "3/3 - 0s - 39ms/step - loss: 8172083.5000 - mae: 2221.1619 - val_loss: 12138873.0000 - val_mae: 2756.6331\n",
            "Epoch 70/100\n",
            "3/3 - 0s - 56ms/step - loss: 8019703.5000 - mae: 2207.7668 - val_loss: 11766183.0000 - val_mae: 2814.1980\n",
            "Epoch 71/100\n",
            "3/3 - 0s - 23ms/step - loss: 7955302.0000 - mae: 2220.3352 - val_loss: 11734636.0000 - val_mae: 2871.0935\n",
            "Epoch 72/100\n",
            "3/3 - 0s - 27ms/step - loss: 7993329.0000 - mae: 2234.7290 - val_loss: 11636148.0000 - val_mae: 2832.0369\n",
            "Epoch 73/100\n",
            "3/3 - 0s - 22ms/step - loss: 8119798.0000 - mae: 2211.0574 - val_loss: 11928039.0000 - val_mae: 2779.3572\n",
            "Epoch 74/100\n",
            "3/3 - 0s - 15ms/step - loss: 7923866.0000 - mae: 2182.0090 - val_loss: 11844531.0000 - val_mae: 2798.2083\n",
            "Epoch 75/100\n",
            "3/3 - 0s - 14ms/step - loss: 8000444.5000 - mae: 2210.0657 - val_loss: 11662528.0000 - val_mae: 2919.3459\n",
            "Epoch 76/100\n",
            "3/3 - 0s - 18ms/step - loss: 7937364.5000 - mae: 2219.3540 - val_loss: 11557885.0000 - val_mae: 2810.6550\n",
            "Epoch 77/100\n",
            "3/3 - 0s - 18ms/step - loss: 7769390.5000 - mae: 2177.3657 - val_loss: 11556633.0000 - val_mae: 2799.2375\n",
            "Epoch 78/100\n",
            "3/3 - 0s - 15ms/step - loss: 7730254.0000 - mae: 2172.8870 - val_loss: 11496516.0000 - val_mae: 2827.2292\n",
            "Epoch 79/100\n",
            "3/3 - 0s - 14ms/step - loss: 7705892.5000 - mae: 2174.9617 - val_loss: 11516225.0000 - val_mae: 2854.7598\n",
            "Epoch 80/100\n",
            "3/3 - 0s - 18ms/step - loss: 7649485.5000 - mae: 2167.2974 - val_loss: 11569420.0000 - val_mae: 2806.2141\n",
            "Epoch 81/100\n",
            "3/3 - 0s - 16ms/step - loss: 7702903.0000 - mae: 2152.0698 - val_loss: 11115557.0000 - val_mae: 2736.6648\n",
            "Epoch 82/100\n",
            "3/3 - 0s - 20ms/step - loss: 7722366.0000 - mae: 2148.0598 - val_loss: 11086610.0000 - val_mae: 2658.5183\n",
            "Epoch 83/100\n",
            "3/3 - 0s - 15ms/step - loss: 8011276.5000 - mae: 2234.0986 - val_loss: 11126311.0000 - val_mae: 2766.0964\n",
            "Epoch 84/100\n",
            "3/3 - 0s - 14ms/step - loss: 7721993.0000 - mae: 2156.4592 - val_loss: 10845297.0000 - val_mae: 2649.7620\n",
            "Epoch 85/100\n",
            "3/3 - 0s - 15ms/step - loss: 7613765.0000 - mae: 2120.9839 - val_loss: 11837452.0000 - val_mae: 2860.9902\n",
            "Epoch 86/100\n",
            "3/3 - 0s - 18ms/step - loss: 7869922.5000 - mae: 2178.9260 - val_loss: 11908391.0000 - val_mae: 2924.3235\n",
            "Epoch 87/100\n",
            "3/3 - 0s - 14ms/step - loss: 8040574.0000 - mae: 2224.1589 - val_loss: 13138431.0000 - val_mae: 3143.6917\n",
            "Epoch 88/100\n",
            "3/3 - 0s - 14ms/step - loss: 7871377.0000 - mae: 2175.1572 - val_loss: 11897224.0000 - val_mae: 2910.8457\n",
            "Epoch 89/100\n",
            "3/3 - 0s - 15ms/step - loss: 7558410.0000 - mae: 2121.2222 - val_loss: 11707228.0000 - val_mae: 2774.7996\n",
            "Epoch 90/100\n",
            "3/3 - 0s - 19ms/step - loss: 7348982.0000 - mae: 2087.9939 - val_loss: 12145061.0000 - val_mae: 2817.0908\n",
            "Epoch 91/100\n",
            "3/3 - 0s - 21ms/step - loss: 7864159.5000 - mae: 2183.4561 - val_loss: 13140916.0000 - val_mae: 3018.0359\n",
            "Epoch 92/100\n",
            "3/3 - 0s - 40ms/step - loss: 8106089.5000 - mae: 2246.4409 - val_loss: 12816199.0000 - val_mae: 2981.8906\n",
            "Epoch 93/100\n",
            "3/3 - 0s - 15ms/step - loss: 7941587.0000 - mae: 2214.8608 - val_loss: 10685993.0000 - val_mae: 2706.1790\n",
            "Epoch 94/100\n",
            "3/3 - 0s - 19ms/step - loss: 7369497.5000 - mae: 2110.3845 - val_loss: 11266505.0000 - val_mae: 2842.2668\n",
            "Epoch 95/100\n",
            "3/3 - 0s - 14ms/step - loss: 7438223.5000 - mae: 2120.5327 - val_loss: 11918357.0000 - val_mae: 2921.0867\n",
            "Epoch 96/100\n",
            "3/3 - 0s - 14ms/step - loss: 7418342.5000 - mae: 2114.3318 - val_loss: 11607311.0000 - val_mae: 2870.6555\n",
            "Epoch 97/100\n",
            "3/3 - 0s - 14ms/step - loss: 7011414.5000 - mae: 2072.1086 - val_loss: 11391939.0000 - val_mae: 2779.3330\n",
            "Epoch 98/100\n",
            "3/3 - 0s - 14ms/step - loss: 7447427.0000 - mae: 2089.4875 - val_loss: 13887343.0000 - val_mae: 3125.7317\n",
            "Epoch 99/100\n",
            "3/3 - 0s - 14ms/step - loss: 6945197.5000 - mae: 2099.0234 - val_loss: 15388616.0000 - val_mae: 3255.8586\n",
            "Epoch 100/100\n",
            "3/3 - 0s - 18ms/step - loss: 7122457.5000 - mae: 2084.7678 - val_loss: 15317136.0000 - val_mae: 3254.0994\n"
          ]
        },
        {
          "output_type": "execute_result",
          "data": {
            "text/plain": [
              "<keras.src.callbacks.history.History at 0x7c38bcd93280>"
            ]
          },
          "metadata": {},
          "execution_count": 18
        }
      ]
    },
    {
      "cell_type": "code",
      "metadata": {
        "colab": {
          "base_uri": "https://localhost:8080/"
        },
        "id": "8h_vWxcrROuZ",
        "outputId": "ae019e26-93b1-4f9a-ad4f-301e37176908"
      },
      "source": [
        "# evalua el modelo\n",
        "mse, mae = model.evaluate(X_test, y_test, verbose=0)\n",
        "print('MSE: %.3f, RMSE: %.3f, MAE: %.3f' % (mse, np.sqrt(mse), mae)) # mientras mas cercano a 0 mejor\n"
      ],
      "execution_count": null,
      "outputs": [
        {
          "output_type": "stream",
          "name": "stdout",
          "text": [
            "MSE: 15317136.000, RMSE: 3913.711, MAE: 3254.099\n"
          ]
        }
      ]
    },
    {
      "cell_type": "code",
      "metadata": {
        "colab": {
          "base_uri": "https://localhost:8080/"
        },
        "id": "m0eTPb6WFTcv",
        "outputId": "5b26af5b-ebe1-45a9-91d8-ed4de6a98596"
      },
      "source": [
        "# realiza una predicción\n",
        "row = np.asarray([18024.0, 16722.0, 14385.0, 21342.0, 17180.0]).reshape((1, n_steps, 1))\n",
        "yhat = model.predict(row)\n",
        "print('Predicho: %.3f' % (yhat))"
      ],
      "execution_count": null,
      "outputs": [
        {
          "output_type": "stream",
          "name": "stdout",
          "text": [
            "\u001b[1m1/1\u001b[0m \u001b[32m━━━━━━━━━━━━━━━━━━━━\u001b[0m\u001b[37m\u001b[0m \u001b[1m0s\u001b[0m 393ms/step\n",
            "Predicho: 16945.688\n"
          ]
        },
        {
          "output_type": "stream",
          "name": "stderr",
          "text": [
            "<ipython-input-20-5a17ea24b322>:4: DeprecationWarning: Conversion of an array with ndim > 0 to a scalar is deprecated, and will error in future. Ensure you extract a single element from your array before performing this operation. (Deprecated NumPy 1.25.)\n",
            "  print('Predicho: %.3f' % (yhat))\n"
          ]
        }
      ]
    },
    {
      "cell_type": "markdown",
      "metadata": {
        "id": "ChiaPV4BRZ43"
      },
      "source": [
        "El modelo obtuvo un MAE de 2,768 y predijo el valor siguiente de las secuencia como 15476, el valor esperado era 14,577."
      ]
    },
    {
      "cell_type": "markdown",
      "metadata": {
        "id": "QsC85JcixRjx"
      },
      "source": [
        "##**Mejoras a los Modelos**"
      ]
    },
    {
      "cell_type": "markdown",
      "metadata": {
        "id": "UhgU01Tzxo6N"
      },
      "source": [
        "*Learning Curves*"
      ]
    },
    {
      "cell_type": "code",
      "metadata": {
        "colab": {
          "base_uri": "https://localhost:8080/",
          "height": 528
        },
        "id": "Af42N0dUxUDU",
        "outputId": "b9a539d1-25c9-443d-b22c-c97bc835c69b"
      },
      "source": [
        "# ejemplo de visualización de curvas de aprendizaje\n",
        "from sklearn.datasets import make_classification\n",
        "from tensorflow.keras.optimizers import SGD\n",
        "from matplotlib import pyplot\n",
        "\n",
        "# creación de dataset\n",
        "X, y = make_classification(n_samples=1000, n_classes=2, random_state=1)\n",
        "# número de caracteristicas de entrada\n",
        "n_features = X.shape[1]\n",
        "# definición del modelo\n",
        "model = Sequential()\n",
        "model.add(Dense(10, activation='relu', kernel_initializer='he_normal', input_shape=(n_features,)))\n",
        "model.add(Dense(1, activation='sigmoid'))\n",
        "# compilar el modelo\n",
        "sgd = SGD(learning_rate=0.001, momentum=0.8)\n",
        "model.compile(optimizer=sgd, loss='binary_crossentropy')\n",
        "# aprendizaje\n",
        "history = model.fit(X, y, epochs=100, batch_size=32, verbose=0, validation_split=0.3)\n",
        "# plot curvas de aprendizaje\n",
        "pyplot.title('Learning Curves')\n",
        "pyplot.xlabel('Epoch')\n",
        "pyplot.ylabel('Cross Entropy')\n",
        "pyplot.plot(history.history['loss'], label='train')\n",
        "pyplot.plot(history.history['val_loss'], label='val')\n",
        "pyplot.legend()\n",
        "pyplot.show()"
      ],
      "execution_count": null,
      "outputs": [
        {
          "output_type": "stream",
          "name": "stderr",
          "text": [
            "/usr/local/lib/python3.10/dist-packages/keras/src/layers/core/dense.py:87: UserWarning: Do not pass an `input_shape`/`input_dim` argument to a layer. When using Sequential models, prefer using an `Input(shape)` object as the first layer in the model instead.\n",
            "  super().__init__(activity_regularizer=activity_regularizer, **kwargs)\n"
          ]
        },
        {
          "output_type": "display_data",
          "data": {
            "text/plain": [
              "<Figure size 640x480 with 1 Axes>"
            ],
            "image/png": "[encoded data removed]"
          },
          "metadata": {}
        }
      ]
    },
    {
      "cell_type": "markdown",
      "metadata": {
        "id": "DDdoCPfByI_m"
      },
      "source": [
        "*Guardar y cargar un modelo*"
      ]
    },
    {
      "cell_type": "code",
      "metadata": {
        "colab": {
          "base_uri": "https://localhost:8080/"
        },
        "id": "yl9r8O1lyNyM",
        "outputId": "67f5af9b-3d9c-43c1-d79d-2e374093ff37"
      },
      "source": [
        "#!pip install h5py"
      ],
      "execution_count": null,
      "outputs": [
        {
          "output_type": "stream",
          "name": "stdout",
          "text": [
            "Requirement already satisfied: h5py in /usr/local/lib/python3.10/dist-packages (3.9.0)\n",
            "Requirement already satisfied: numpy>=1.17.3 in /usr/local/lib/python3.10/dist-packages (from h5py) (1.23.5)\n"
          ]
        }
      ]
    },
    {
      "cell_type": "code",
      "source": [
        "#from google.colab import drive\n",
        "#drive.mount('/content/drive')\n",
        "\n",
        "#url =\"/content/drive/My Drive/Colab Notebooks/MaestriaCienciaDatosV1/IntroCienciaDatos/SesionIII/\"\n",
        "#url =\"/content/drive/My Drive/Colab Notebooks/\""
      ],
      "metadata": {
        "id": "dh32XZIwzltz"
      },
      "execution_count": null,
      "outputs": []
    },
    {
      "cell_type": "code",
      "metadata": {
        "id": "cAE7OKiTyJ3I"
      },
      "source": [
        "# ejemplo de grabar modelo entrenado\n",
        "\n",
        "# el dataset\n",
        "X, y = make_classification(n_samples=1000, n_features=4, n_classes=2, random_state=1)\n",
        "# número de características entrada\n",
        "n_features = X.shape[1]\n",
        "# definición modelo\n",
        "model = Sequential()\n",
        "model.add(Dense(10, activation='relu', kernel_initializer='he_normal', input_shape=(n_features,)))\n",
        "model.add(Dense(1, activation='sigmoid'))\n",
        "# compila el modelo\n",
        "sgd = SGD(learning_rate=0.001, momentum=0.8)\n",
        "model.compile(optimizer=sgd, loss='binary_crossentropy')\n",
        "# aprendizaje\n",
        "model.fit(X, y, epochs=100, batch_size=32, verbose=0, validation_split=0.3)\n",
        "# Graba archivo\n",
        "model.save('model.keras') #antes h5"
      ],
      "execution_count": null,
      "outputs": []
    },
    {
      "cell_type": "code",
      "metadata": {
        "colab": {
          "base_uri": "https://localhost:8080/"
        },
        "id": "WJ_NVng0yhTQ",
        "outputId": "a4cfa997-2e24-43d5-b103-6be6a39c4a9f"
      },
      "source": [
        "# ejemplo carga modelo grabado\n",
        "from tensorflow.keras.models import load_model\n",
        "# crea dataset\n",
        "X, y = make_classification(n_samples=1000, n_features=4, n_classes=2, random_state=1)\n",
        "# cargar modelo de archivo\n",
        "model = load_model('model.keras') # antes h5\n",
        "# hacer predicción\n",
        "row = [1.91518414, 1.14995454, -1.52847073, 0.79430654]\n",
        "yhat = model.predict(np.asarray([row]))\n",
        "print('Predicho: %.3f' % yhat[0])"
      ],
      "execution_count": null,
      "outputs": [
        {
          "output_type": "stream",
          "name": "stdout",
          "text": [
            "\u001b[1m1/1\u001b[0m \u001b[32m━━━━━━━━━━━━━━━━━━━━\u001b[0m\u001b[37m\u001b[0m \u001b[1m0s\u001b[0m 142ms/step\n",
            "Predicho: 0.850\n"
          ]
        },
        {
          "output_type": "stream",
          "name": "stderr",
          "text": [
            "<ipython-input-61-42552cea195b>:10: DeprecationWarning: Conversion of an array with ndim > 0 to a scalar is deprecated, and will error in future. Ensure you extract a single element from your array before performing this operation. (Deprecated NumPy 1.25.)\n",
            "  print('Predicho: %.3f' % yhat[0])\n"
          ]
        }
      ]
    },
    {
      "cell_type": "markdown",
      "metadata": {
        "id": "_NpIFEJqyoy5"
      },
      "source": [
        "*Reducir Overfitting con Dropout*"
      ]
    },
    {
      "cell_type": "code",
      "metadata": {
        "colab": {
          "base_uri": "https://localhost:8080/"
        },
        "id": "xsXaqrzxyrQL",
        "outputId": "d4712915-7ae8-436c-b2ce-d6cf6f5b55ca"
      },
      "source": [
        "# Ejemplo de uso dropout\n",
        "\n",
        "# crear dataset\n",
        "X, y = make_classification(n_samples=1000, n_classes=2, random_state=1)\n",
        "# número caracterisiticas entrada\n",
        "n_features = X.shape[1]\n",
        "# define el  modelo\n",
        "model = Sequential()\n",
        "model.add(Dense(10, activation='relu', kernel_initializer='he_normal', input_shape=(n_features,)))\n",
        "model.add(Dropout(0.2)) #reduce overfitting\n",
        "model.add(Dense(1, activation='sigmoid'))\n",
        "# compilar el modelo\n",
        "model.compile(optimizer='adam', loss='binary_crossentropy')\n",
        "# aprendizaje\n",
        "model.fit(X, y, epochs=100, batch_size=32, verbose=0)"
      ],
      "execution_count": null,
      "outputs": [
        {
          "output_type": "stream",
          "name": "stderr",
          "text": [
            "/usr/local/lib/python3.10/dist-packages/keras/src/layers/core/dense.py:87: UserWarning: Do not pass an `input_shape`/`input_dim` argument to a layer. When using Sequential models, prefer using an `Input(shape)` object as the first layer in the model instead.\n",
            "  super().__init__(activity_regularizer=activity_regularizer, **kwargs)\n"
          ]
        },
        {
          "output_type": "execute_result",
          "data": {
            "text/plain": [
              "<keras.src.callbacks.history.History at 0x7943b1667e50>"
            ]
          },
          "metadata": {},
          "execution_count": 62
        }
      ]
    },
    {
      "cell_type": "markdown",
      "metadata": {
        "id": "aphFvIYXzC73"
      },
      "source": [
        "*Acelar entrenamiento con Batch Normalization*"
      ]
    },
    {
      "cell_type": "code",
      "metadata": {
        "colab": {
          "base_uri": "https://localhost:8080/"
        },
        "id": "DNnuiLPizELB",
        "outputId": "2c347fbd-d9a6-4299-9c3c-1146429127bd"
      },
      "source": [
        "# batch normalization\n",
        "from tensorflow.keras.layers import BatchNormalization\n",
        "\n",
        "# crea el dataset\n",
        "X, y = make_classification(n_samples=1000, n_classes=2, random_state=1)\n",
        "# número de características\n",
        "n_features = X.shape[1]\n",
        "# define modelo\n",
        "model = Sequential()\n",
        "model.add(Dense(10, activation='relu', kernel_initializer='he_normal', input_shape=(n_features,)))\n",
        "model.add(BatchNormalization()) # realiza normalización de los datos que estan en el batch\n",
        "model.add(Dense(1, activation='sigmoid'))\n",
        "# compila el modelo\n",
        "model.compile(optimizer='adam', loss='binary_crossentropy')\n",
        "# aprendizaje\n",
        "model.fit(X, y, epochs=100, batch_size=32, verbose=0)"
      ],
      "execution_count": null,
      "outputs": [
        {
          "output_type": "execute_result",
          "data": {
            "text/plain": [
              "<keras.src.callbacks.history.History at 0x7943b07377f0>"
            ]
          },
          "metadata": {},
          "execution_count": 63
        }
      ]
    },
    {
      "cell_type": "markdown",
      "metadata": {
        "id": "r6zi2SXPzSdT"
      },
      "source": [
        "*Para el entrenamiento con Early Stopping*\n",
        "\n",
        "- Poco entrenamiento provoca underfit; mucho entrenamiento provoca  overfitting. En ambos casos el resultado es un modelo menos efectivo.\n",
        "\n",
        "- Early stopping implica monitorear la perdida de un dataset de entrenamiento y dataset de validación (subconjunto de datos no usado para entrenar). Conforme el conjunto de validación comienza a mostrar señales de overfitting, todo el entrenamiento se detiene."
      ]
    },
    {
      "cell_type": "code",
      "metadata": {
        "id": "Vi_UVwPazToj",
        "colab": {
          "base_uri": "https://localhost:8080/"
        },
        "outputId": "46ffbf63-edb6-49e2-e13d-4315b01c712d"
      },
      "source": [
        "# early stopping\n",
        "from tensorflow.keras.callbacks import EarlyStopping\n",
        "\n",
        "\n",
        "# crea el dataset\n",
        "X, y = make_classification(n_samples=1000, n_classes=2, random_state=1)\n",
        "#  numero de características\n",
        "n_features = X.shape[1]\n",
        "# define modelo\n",
        "model = Sequential()\n",
        "model.add(Dense(10, activation='relu', kernel_initializer='he_normal', input_shape=(n_features,)))\n",
        "model.add(Dense(1, activation='sigmoid'))\n",
        "# compila el modelo\n",
        "model.compile(optimizer='adam', loss='binary_crossentropy')\n",
        "# configura early stopping\n",
        "es = EarlyStopping(monitor='val_loss', patience=5) #patience: número de epocas sin mejoras hasta que el entrenamiento es parado\n",
        "# aprendizaje\n",
        "history = model.fit(X, y, epochs=200, batch_size=32, verbose=2, validation_split=0.3, callbacks=[es])"
      ],
      "execution_count": null,
      "outputs": [
        {
          "output_type": "stream",
          "name": "stdout",
          "text": [
            "Epoch 1/200\n",
            "22/22 - 1s - loss: 0.8376 - val_loss: 0.7856 - 963ms/epoch - 44ms/step\n",
            "Epoch 2/200\n",
            "22/22 - 0s - loss: 0.7712 - val_loss: 0.7370 - 98ms/epoch - 4ms/step\n",
            "Epoch 3/200\n",
            "22/22 - 0s - loss: 0.7200 - val_loss: 0.6974 - 99ms/epoch - 5ms/step\n",
            "Epoch 4/200\n",
            "22/22 - 0s - loss: 0.6767 - val_loss: 0.6656 - 111ms/epoch - 5ms/step\n",
            "Epoch 5/200\n",
            "22/22 - 0s - loss: 0.6425 - val_loss: 0.6377 - 92ms/epoch - 4ms/step\n",
            "Epoch 6/200\n",
            "22/22 - 0s - loss: 0.6132 - val_loss: 0.6133 - 100ms/epoch - 5ms/step\n",
            "Epoch 7/200\n",
            "22/22 - 0s - loss: 0.5881 - val_loss: 0.5916 - 96ms/epoch - 4ms/step\n",
            "Epoch 8/200\n",
            "22/22 - 0s - loss: 0.5652 - val_loss: 0.5737 - 101ms/epoch - 5ms/step\n",
            "Epoch 9/200\n",
            "22/22 - 0s - loss: 0.5458 - val_loss: 0.5569 - 100ms/epoch - 5ms/step\n",
            "Epoch 10/200\n",
            "22/22 - 0s - loss: 0.5282 - val_loss: 0.5407 - 104ms/epoch - 5ms/step\n",
            "Epoch 11/200\n",
            "22/22 - 0s - loss: 0.5112 - val_loss: 0.5273 - 99ms/epoch - 4ms/step\n",
            "Epoch 12/200\n",
            "22/22 - 0s - loss: 0.4955 - val_loss: 0.5147 - 104ms/epoch - 5ms/step\n",
            "Epoch 13/200\n",
            "22/22 - 0s - loss: 0.4820 - val_loss: 0.5028 - 142ms/epoch - 6ms/step\n",
            "Epoch 14/200\n",
            "22/22 - 0s - loss: 0.4689 - val_loss: 0.4911 - 105ms/epoch - 5ms/step\n",
            "Epoch 15/200\n",
            "22/22 - 0s - loss: 0.4571 - val_loss: 0.4811 - 96ms/epoch - 4ms/step\n",
            "Epoch 16/200\n",
            "22/22 - 0s - loss: 0.4462 - val_loss: 0.4722 - 147ms/epoch - 7ms/step\n",
            "Epoch 17/200\n",
            "22/22 - 0s - loss: 0.4358 - val_loss: 0.4646 - 107ms/epoch - 5ms/step\n",
            "Epoch 18/200\n",
            "22/22 - 0s - loss: 0.4266 - val_loss: 0.4564 - 141ms/epoch - 6ms/step\n",
            "Epoch 19/200\n",
            "22/22 - 0s - loss: 0.4178 - val_loss: 0.4499 - 99ms/epoch - 5ms/step\n",
            "Epoch 20/200\n",
            "22/22 - 0s - loss: 0.4099 - val_loss: 0.4438 - 102ms/epoch - 5ms/step\n",
            "Epoch 21/200\n",
            "22/22 - 0s - loss: 0.4028 - val_loss: 0.4386 - 95ms/epoch - 4ms/step\n",
            "Epoch 22/200\n",
            "22/22 - 0s - loss: 0.3962 - val_loss: 0.4341 - 151ms/epoch - 7ms/step\n",
            "Epoch 23/200\n",
            "22/22 - 0s - loss: 0.3900 - val_loss: 0.4296 - 106ms/epoch - 5ms/step\n",
            "Epoch 24/200\n",
            "22/22 - 0s - loss: 0.3846 - val_loss: 0.4251 - 102ms/epoch - 5ms/step\n",
            "Epoch 25/200\n",
            "22/22 - 0s - loss: 0.3790 - val_loss: 0.4226 - 120ms/epoch - 5ms/step\n",
            "Epoch 26/200\n",
            "22/22 - 0s - loss: 0.3747 - val_loss: 0.4191 - 144ms/epoch - 7ms/step\n",
            "Epoch 27/200\n",
            "22/22 - 0s - loss: 0.3698 - val_loss: 0.4167 - 103ms/epoch - 5ms/step\n",
            "Epoch 28/200\n",
            "22/22 - 0s - loss: 0.3657 - val_loss: 0.4150 - 104ms/epoch - 5ms/step\n",
            "Epoch 29/200\n",
            "22/22 - 0s - loss: 0.3618 - val_loss: 0.4128 - 102ms/epoch - 5ms/step\n",
            "Epoch 30/200\n",
            "22/22 - 0s - loss: 0.3580 - val_loss: 0.4104 - 101ms/epoch - 5ms/step\n",
            "Epoch 31/200\n",
            "22/22 - 0s - loss: 0.3543 - val_loss: 0.4087 - 113ms/epoch - 5ms/step\n",
            "Epoch 32/200\n",
            "22/22 - 0s - loss: 0.3513 - val_loss: 0.4078 - 100ms/epoch - 5ms/step\n",
            "Epoch 33/200\n",
            "22/22 - 0s - loss: 0.3483 - val_loss: 0.4069 - 100ms/epoch - 5ms/step\n",
            "Epoch 34/200\n",
            "22/22 - 0s - loss: 0.3455 - val_loss: 0.4061 - 105ms/epoch - 5ms/step\n",
            "Epoch 35/200\n",
            "22/22 - 0s - loss: 0.3426 - val_loss: 0.4047 - 98ms/epoch - 4ms/step\n",
            "Epoch 36/200\n",
            "22/22 - 0s - loss: 0.3398 - val_loss: 0.4035 - 99ms/epoch - 5ms/step\n",
            "Epoch 37/200\n",
            "22/22 - 0s - loss: 0.3375 - val_loss: 0.4019 - 97ms/epoch - 4ms/step\n",
            "Epoch 38/200\n",
            "22/22 - 0s - loss: 0.3345 - val_loss: 0.4012 - 98ms/epoch - 4ms/step\n",
            "Epoch 39/200\n",
            "22/22 - 0s - loss: 0.3318 - val_loss: 0.4000 - 103ms/epoch - 5ms/step\n",
            "Epoch 40/200\n",
            "22/22 - 0s - loss: 0.3294 - val_loss: 0.3994 - 112ms/epoch - 5ms/step\n",
            "Epoch 41/200\n",
            "22/22 - 0s - loss: 0.3274 - val_loss: 0.3987 - 103ms/epoch - 5ms/step\n",
            "Epoch 42/200\n",
            "22/22 - 0s - loss: 0.3248 - val_loss: 0.3977 - 100ms/epoch - 5ms/step\n",
            "Epoch 43/200\n",
            "22/22 - 0s - loss: 0.3229 - val_loss: 0.3966 - 99ms/epoch - 5ms/step\n",
            "Epoch 44/200\n",
            "22/22 - 0s - loss: 0.3207 - val_loss: 0.3965 - 103ms/epoch - 5ms/step\n",
            "Epoch 45/200\n",
            "22/22 - 0s - loss: 0.3186 - val_loss: 0.3961 - 100ms/epoch - 5ms/step\n",
            "Epoch 46/200\n",
            "22/22 - 0s - loss: 0.3166 - val_loss: 0.3953 - 104ms/epoch - 5ms/step\n",
            "Epoch 47/200\n",
            "22/22 - 0s - loss: 0.3148 - val_loss: 0.3953 - 107ms/epoch - 5ms/step\n",
            "Epoch 48/200\n",
            "22/22 - 0s - loss: 0.3129 - val_loss: 0.3945 - 102ms/epoch - 5ms/step\n",
            "Epoch 49/200\n",
            "22/22 - 0s - loss: 0.3113 - val_loss: 0.3942 - 106ms/epoch - 5ms/step\n",
            "Epoch 50/200\n",
            "22/22 - 0s - loss: 0.3097 - val_loss: 0.3937 - 112ms/epoch - 5ms/step\n",
            "Epoch 51/200\n",
            "22/22 - 0s - loss: 0.3081 - val_loss: 0.3935 - 105ms/epoch - 5ms/step\n",
            "Epoch 52/200\n",
            "22/22 - 0s - loss: 0.3070 - val_loss: 0.3934 - 101ms/epoch - 5ms/step\n",
            "Epoch 53/200\n",
            "22/22 - 0s - loss: 0.3048 - val_loss: 0.3939 - 113ms/epoch - 5ms/step\n",
            "Epoch 54/200\n",
            "22/22 - 0s - loss: 0.3033 - val_loss: 0.3930 - 102ms/epoch - 5ms/step\n",
            "Epoch 55/200\n",
            "22/22 - 0s - loss: 0.3019 - val_loss: 0.3927 - 98ms/epoch - 4ms/step\n",
            "Epoch 56/200\n",
            "22/22 - 0s - loss: 0.3008 - val_loss: 0.3930 - 134ms/epoch - 6ms/step\n",
            "Epoch 57/200\n",
            "22/22 - 0s - loss: 0.2993 - val_loss: 0.3931 - 139ms/epoch - 6ms/step\n",
            "Epoch 58/200\n",
            "22/22 - 0s - loss: 0.2981 - val_loss: 0.3919 - 178ms/epoch - 8ms/step\n",
            "Epoch 59/200\n",
            "22/22 - 0s - loss: 0.2970 - val_loss: 0.3918 - 146ms/epoch - 7ms/step\n",
            "Epoch 60/200\n",
            "22/22 - 0s - loss: 0.2954 - val_loss: 0.3922 - 138ms/epoch - 6ms/step\n",
            "Epoch 61/200\n",
            "22/22 - 0s - loss: 0.2947 - val_loss: 0.3918 - 173ms/epoch - 8ms/step\n",
            "Epoch 62/200\n",
            "22/22 - 0s - loss: 0.2930 - val_loss: 0.3924 - 195ms/epoch - 9ms/step\n",
            "Epoch 63/200\n",
            "22/22 - 0s - loss: 0.2919 - val_loss: 0.3923 - 169ms/epoch - 8ms/step\n",
            "Epoch 64/200\n",
            "22/22 - 0s - loss: 0.2905 - val_loss: 0.3923 - 161ms/epoch - 7ms/step\n",
            "Epoch 65/200\n",
            "22/22 - 0s - loss: 0.2896 - val_loss: 0.3927 - 138ms/epoch - 6ms/step\n",
            "Epoch 66/200\n",
            "22/22 - 0s - loss: 0.2885 - val_loss: 0.3925 - 168ms/epoch - 8ms/step\n"
          ]
        }
      ]
    }
  ]
}